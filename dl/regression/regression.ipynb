{
 "cells": [
  {
   "cell_type": "markdown",
   "metadata": {},
   "source": [
    "### homework 1: COVID-19 Cases Prediction (regression)"
   ]
  },
  {
   "cell_type": "markdown",
   "metadata": {},
   "source": [
    "### download data\n",
    "you can download data from [kaggle](https://www.kaggle.com/c/ml2021spring-hw1/data), and upload data manually to the workspace"
   ]
  },
  {
   "cell_type": "code",
   "execution_count": 167,
   "metadata": {},
   "outputs": [],
   "source": [
    "tr_path = 'covid.train.csv'  # path to training data\n",
    "tt_path = 'covid.test.csv'   # path to testing data"
   ]
  },
  {
   "cell_type": "markdown",
   "metadata": {},
   "source": [
    "### import some packages"
   ]
  },
  {
   "cell_type": "code",
   "execution_count": 168,
   "metadata": {},
   "outputs": [],
   "source": [
    "# PyTorch\n",
    "import torch\n",
    "import torch.nn as nn\n",
    "from torch.utils.data import Dataset, DataLoader\n",
    "\n",
    "# for data preprocess\n",
    "import numpy as np\n",
    "import csv\n",
    "import os\n",
    "\n",
    "# for plotting\n",
    "import matplotlib.pyplot as plt\n",
    "from matplotlib.pyplot import figure\n",
    "\n",
    "myseed = 42069  # set a random seed for reproducibility\n",
    "torch.backends.cudnn.deterministic = True\n",
    "torch.backends.cudnn.benchmark = False\n",
    "np.random.seed(myseed)\n",
    "torch.manual_seed(myseed)\n",
    "if torch.cuda.is_available():\n",
    "  torch.cuda.manual_seed_all(myseed)"
   ]
  },
  {
   "cell_type": "markdown",
   "metadata": {},
   "source": [
    "### some utilities\n",
    "you do not need to modify this part."
   ]
  },
  {
   "cell_type": "code",
   "execution_count": 169,
   "metadata": {},
   "outputs": [],
   "source": [
    "def get_device():\n",
    "  ''' get device (if GPU is available, use GPU) '''\n",
    "  return 'cuda' if torch.cuda.is_available() else 'cpu'\n",
    "\n",
    "def plot_learning_curve(loss_record, title=''):\n",
    "  ''' plot learning curve of your DNN (train & dev loss) '''\n",
    "  total_steps = len(loss_record['train'])\n",
    "  x_1 = range(total_steps)\n",
    "  x_2 = x_1[::len(loss_record['train']) // len(loss_record['dev'])]\n",
    "  figure(figsize=(6, 4))\n",
    "  plt.plot(x_1, loss_record['train'], c='tab:red', label='train')\n",
    "  plt.plot(x_2, loss_record['dev'], c='tab:cyan', label='dev')\n",
    "  plt.ylim(0.0, 5.)\n",
    "  plt.xlabel('training steps')\n",
    "  plt.ylabel('MSE loss')\n",
    "  plt.title('learning curve of {}'.format(title))\n",
    "  plt.legend()\n",
    "  plt.show()\n",
    "\n",
    "\n",
    "def plot_pred(dv_set, model, device, lim=35., preds=None, targets=None):\n",
    "  ''' plot prediction of your DNN '''\n",
    "  if preds is None or targets is None:\n",
    "    model.eval()\n",
    "    preds, targets = [], []\n",
    "    for x, y in dv_set:\n",
    "      x, y = x.to(device), y.to(device)\n",
    "      with torch.no_grad():\n",
    "        pred = model(x)\n",
    "        preds.append(pred.detach().cpu())\n",
    "        targets.append(y.detach().cpu())\n",
    "    preds = torch.cat(preds, dim=0).numpy()\n",
    "    targets = torch.cat(targets, dim=0).numpy()\n",
    "\n",
    "  figure(figsize=(5, 5))\n",
    "  plt.scatter(targets, preds, c='r', alpha=0.5)\n",
    "  plt.plot([-0.2, lim], [-0.2, lim], c='b')\n",
    "  plt.xlim(-0.2, lim)\n",
    "  plt.ylim(-0.2, lim)\n",
    "  plt.xlabel('ground truth value')\n",
    "  plt.ylabel('predicted value')\n",
    "  plt.title('ground truth v.s. prediction')\n",
    "  plt.show()"
   ]
  },
  {
   "cell_type": "markdown",
   "metadata": {},
   "source": [
    "### preprocess\n",
    "we have three kinds of datasets:\n",
    "* train: for training\n",
    "* dev: for validation\n",
    "* test: for testing (w/o target value)"
   ]
  },
  {
   "cell_type": "markdown",
   "metadata": {},
   "source": [
    "### Dataset\n",
    "the COVID19Dataset below does:\n",
    "* read `.csv` files\n",
    "* extract features\n",
    "* split `covid.train.csv` into train/dev sets\n",
    "* normalize features\n",
    "\n",
    "finishing TODO below might make you pass medium baseline"
   ]
  },
  {
   "cell_type": "code",
   "execution_count": 170,
   "metadata": {},
   "outputs": [],
   "source": [
    "class COVID19Dataset(Dataset):\n",
    "  ''' Dataset for loading and preprocessing the COVID19 dataset '''\n",
    "\n",
    "  def __init__(self,\n",
    "               path,\n",
    "               mode='train',\n",
    "               target_only=False):\n",
    "    self.mode = mode\n",
    "\n",
    "    # read data into numpy arrays\n",
    "    with open(path, 'r') as fp:\n",
    "      data = list(csv.reader(fp))\n",
    "      data = np.array(data[1:])[:, 1:].astype(float)\n",
    "\n",
    "    if not target_only:\n",
    "      feats = list(range(93))\n",
    "    else:\n",
    "      # TODO: using 40 states & 2 tested_positive features (indices = 57 & 75)\n",
    "      pass\n",
    "\n",
    "    if mode == 'test':\n",
    "      # testing data\n",
    "      # data: 893 x 93 (40 states + day 1 (18) + day 2 (18) + day 3 (17))\n",
    "      data = data[:, feats]\n",
    "      self.data = torch.FloatTensor(data)\n",
    "    else:\n",
    "      # training data (train/dev sets)\n",
    "      # data: 2700 x 94 (40 states + day 1 (18) + day 2 (18) + day 3 (18))\n",
    "      target = data[:, -1]\n",
    "      data = data[:, feats]\n",
    "\n",
    "      # splitting training data into train & dev sets\n",
    "      if mode == 'train':\n",
    "        indices = [i for i in range(len(data)) if i % 10 != 0]\n",
    "      elif mode == 'dev':\n",
    "        indices = [i for i in range(len(data)) if i % 10 == 0]\n",
    "\n",
    "      # convert data into PyTorch tensors\n",
    "      self.data = torch.FloatTensor(data[indices])\n",
    "      self.target = torch.FloatTensor(target[indices])\n",
    "\n",
    "    # normalize features (you may remove this part to see what will happen)\n",
    "    self.data[:, 40:] = \\\n",
    "        (self.data[:, 40:] - self.data[:, 40:].mean(dim=0, keepdim=True)) \\\n",
    "        / self.data[:, 40:].std(dim=0, keepdim=True)\n",
    "\n",
    "    self.dim = self.data.shape[1]\n",
    "\n",
    "    print('finished reading the {} set of COVID19 Dataset ({} samples found, each dim = {})'\n",
    "          .format(mode, len(self.data), self.dim))\n",
    "\n",
    "  def __getitem__(self, index):\n",
    "    if self.mode in ['train', 'dev']:\n",
    "      return self.data[index], self.target[index]\n",
    "    else:\n",
    "      return self.data[index]\n",
    "\n",
    "  def __len__(self):\n",
    "    return len(self.data)"
   ]
  },
  {
   "cell_type": "markdown",
   "metadata": {},
   "source": [
    "### DataLoader\n",
    "a DataLoader loads data from a given Dataset into batches."
   ]
  },
  {
   "cell_type": "code",
   "execution_count": 171,
   "metadata": {},
   "outputs": [],
   "source": [
    "def prep_dataloader(path, mode, batch_size, n_jobs=0, target_only=False):\n",
    "  ''' generates a dataset, then is put into a dataloader '''\n",
    "  dataset = COVID19Dataset(path, mode=mode, target_only=target_only)\n",
    "  dataloader = DataLoader(dataset, batch_size,\n",
    "                          shuffle=(mode == 'train'), drop_last=False,\n",
    "                          num_workers=n_jobs, pin_memory=True)\n",
    "  return dataloader"
   ]
  },
  {
   "cell_type": "markdown",
   "metadata": {},
   "source": [
    "### deep neural network\n",
    "`NeuralNet` is an nn.Module designed for regression. \n",
    "\n",
    "the DNN consists of 2 fully-connected layers with `ReLU` activation. \n",
    "\n",
    "this module also included a function `cal_loss` for calculating loss."
   ]
  },
  {
   "cell_type": "code",
   "execution_count": 172,
   "metadata": {},
   "outputs": [],
   "source": [
    "class NeuralNet(nn.Module):\n",
    "  ''' a simple fully-connected deep neural network '''\n",
    "\n",
    "  def __init__(self, input_dim):\n",
    "    super().__init__()\n",
    "\n",
    "    # define your neural network here\n",
    "    # TODO: how to modify this model to achieve better performance?\n",
    "    self.net = nn.Sequential(\n",
    "        nn.Linear(input_dim, 64),\n",
    "        nn.ReLU(),\n",
    "        nn.Linear(64, 1)\n",
    "    )\n",
    "\n",
    "    # mean squared error loss\n",
    "    self.criterion = nn.MSELoss(reduction='mean')\n",
    "\n",
    "  def forward(self, x):\n",
    "    ''' given input of size (batch_size x input_dim), compute output of the network '''\n",
    "    return self.net(x).squeeze(1)\n",
    "\n",
    "  def cal_loss(self, pred, target):\n",
    "    ''' calculate loss '''\n",
    "    # TODO: you may implement L1/L2 regularization here\n",
    "    return self.criterion(pred, target)"
   ]
  },
  {
   "cell_type": "markdown",
   "metadata": {},
   "source": [
    "### training"
   ]
  },
  {
   "cell_type": "code",
   "execution_count": 173,
   "metadata": {},
   "outputs": [],
   "source": [
    "def train(tr_set, dv_set, model, config, device):\n",
    "  ''' DNN training '''\n",
    "\n",
    "  n_epochs = config['n_epochs']  # maximum number of epochs\n",
    "\n",
    "  # setup optimizer\n",
    "  optimizer = getattr(torch.optim, config['optimizer'])(\n",
    "      model.parameters(), **config['optim_hparas'])\n",
    "\n",
    "  min_mse = 1000.\n",
    "  loss_record = {'train': [], 'dev': []}      # for recording training loss\n",
    "  early_stop_cnt = 0\n",
    "  epoch = 0\n",
    "  while epoch < n_epochs:\n",
    "    model.train()                           # set model to training mode\n",
    "    for x, y in tr_set:                     # iterate through the dataloader\n",
    "      optimizer.zero_grad()                 # set gradient to zero\n",
    "      # move data to device (cpu/cuda)\n",
    "      x, y = x.to(device), y.to(device)\n",
    "      # forward pass (compute output)\n",
    "      pred = model(x)\n",
    "      mse_loss = model.cal_loss(pred, y)    # compute loss\n",
    "      mse_loss.backward()                   # compute gradient (backpropagation)\n",
    "      optimizer.step()                      # update model with optimizer\n",
    "      loss_record['train'].append(mse_loss.detach().cpu().item())\n",
    "\n",
    "    # after each epoch, test your model on the validation (development) set.\n",
    "    dev_mse = dev(dv_set, model, device)\n",
    "    if dev_mse < min_mse:\n",
    "      # save model if your model improved\n",
    "      min_mse = dev_mse\n",
    "      print('saving model (epoch = {:4d}, loss = {:.4f})'\n",
    "            .format(epoch + 1, min_mse))\n",
    "      # save model to specified path\n",
    "      torch.save(model.state_dict(), config['save_path'])\n",
    "      early_stop_cnt = 0\n",
    "    else:\n",
    "      early_stop_cnt += 1\n",
    "\n",
    "    epoch += 1\n",
    "    loss_record['dev'].append(dev_mse)\n",
    "    if early_stop_cnt > config['early_stop']:\n",
    "      # stop training if your model stops improving for \"config['early_stop']\" epochs.\n",
    "      break\n",
    "\n",
    "  print('finished training after {} epochs'.format(epoch))\n",
    "  return min_mse, loss_record"
   ]
  },
  {
   "cell_type": "markdown",
   "metadata": {},
   "source": [
    "### validation"
   ]
  },
  {
   "cell_type": "code",
   "execution_count": 174,
   "metadata": {},
   "outputs": [],
   "source": [
    "def dev(dv_set, model, device):\n",
    "  model.eval()                                # set model to evalutation mode\n",
    "  total_loss = 0\n",
    "  for x, y in dv_set:                         # iterate through the dataloader\n",
    "    # move data to device (cpu/cuda)\n",
    "    x, y = x.to(device), y.to(device)\n",
    "    with torch.no_grad():                   # disable gradient calculation\n",
    "      # forward pass (compute output)\n",
    "      pred = model(x)\n",
    "      mse_loss = model.cal_loss(pred, y)    # compute loss\n",
    "    total_loss += mse_loss.detach().cpu().item() * len(x)  # accumulate loss\n",
    "  # compute averaged loss\n",
    "  total_loss = total_loss / len(dv_set.dataset)\n",
    "\n",
    "  return total_loss"
   ]
  },
  {
   "cell_type": "markdown",
   "metadata": {},
   "source": [
    "### testing"
   ]
  },
  {
   "cell_type": "code",
   "execution_count": 175,
   "metadata": {},
   "outputs": [],
   "source": [
    "def test(tt_set, model, device):\n",
    "  model.eval()                                # set model to evalutation mode\n",
    "  preds = []\n",
    "  for x in tt_set:                            # iterate through the dataloader\n",
    "    # move data to device (cpu/cuda)\n",
    "    x = x.to(device)\n",
    "    with torch.no_grad():                   # disable gradient calculation\n",
    "      # forward pass (compute output)\n",
    "      pred = model(x)\n",
    "      preds.append(pred.detach().cpu())     # collect prediction\n",
    "  # concatenate all predictions and convert to a numpy array\n",
    "  preds = torch.cat(preds, dim=0).numpy()\n",
    "  return preds"
   ]
  },
  {
   "cell_type": "markdown",
   "metadata": {},
   "source": [
    "### setup hyper-parameters\n",
    "config contains hyper-parameters for training and the path to save your model"
   ]
  },
  {
   "cell_type": "code",
   "execution_count": 176,
   "metadata": {},
   "outputs": [],
   "source": [
    "# get the current available device ('cpu' or 'cuda')\n",
    "device = get_device()\n",
    "# the trained model will be saved to ./models/\n",
    "os.makedirs('models', exist_ok=True)\n",
    "# TODO: using 40 states & 2 tested_positive features\n",
    "target_only = False\n",
    "\n",
    "# TODO: how to tune these hyper-parameters to improve your model's performance?\n",
    "config = {\n",
    "  'n_epochs': 3000,                # maximum number of epochs\n",
    "  'batch_size': 270,               # mini-batch size for dataloader\n",
    "  # optimization algorithm (optimizer in torch.optim)\n",
    "  'optimizer': 'SGD',\n",
    "  'optim_hparas': {                # hyper-parameters for the optimizer (depends on which optimizer you are using)\n",
    "    'lr': 0.001,                   # learning rate of SGD\n",
    "    'momentum': 0.9                # momentum for SGD\n",
    "  },\n",
    "  # early stopping epochs (the number epochs since your model's last improvement)\n",
    "  'early_stop': 200,\n",
    "  'save_path': 'models/model.pth'  # your model will be saved here\n",
    "}"
   ]
  },
  {
   "cell_type": "markdown",
   "metadata": {},
   "source": [
    "### load data and model"
   ]
  },
  {
   "cell_type": "code",
   "execution_count": 177,
   "metadata": {},
   "outputs": [
    {
     "name": "stdout",
     "output_type": "stream",
     "text": [
      "finished reading the train set of COVID19 Dataset (2430 samples found, each dim = 93)\n",
      "finished reading the dev set of COVID19 Dataset (270 samples found, each dim = 93)\n",
      "finished reading the test set of COVID19 Dataset (893 samples found, each dim = 93)\n"
     ]
    }
   ],
   "source": [
    "tr_set = prep_dataloader(tr_path, 'train', config['batch_size'], target_only=target_only)\n",
    "dv_set = prep_dataloader(tr_path, 'dev', config['batch_size'], target_only=target_only)\n",
    "tt_set = prep_dataloader(tt_path, 'test', config['batch_size'], target_only=target_only)"
   ]
  },
  {
   "cell_type": "code",
   "execution_count": 178,
   "metadata": {},
   "outputs": [],
   "source": [
    "model = NeuralNet(tr_set.dataset.dim).to(device)  # construct model and move to device"
   ]
  },
  {
   "cell_type": "markdown",
   "metadata": {},
   "source": [
    "### start training!"
   ]
  },
  {
   "cell_type": "code",
   "execution_count": 179,
   "metadata": {},
   "outputs": [
    {
     "name": "stdout",
     "output_type": "stream",
     "text": [
      "saving model (epoch =    1, loss = 78.8524)\n",
      "saving model (epoch =    2, loss = 37.6170)\n",
      "saving model (epoch =    3, loss = 26.1203)\n",
      "saving model (epoch =    4, loss = 16.1862)\n",
      "saving model (epoch =    5, loss = 9.7153)\n",
      "saving model (epoch =    6, loss = 6.3701)\n",
      "saving model (epoch =    7, loss = 5.1802)\n",
      "saving model (epoch =    8, loss = 4.4255)\n",
      "saving model (epoch =    9, loss = 3.8009)\n",
      "saving model (epoch =   10, loss = 3.3691)\n",
      "saving model (epoch =   11, loss = 3.0943)\n",
      "saving model (epoch =   12, loss = 2.8176)\n",
      "saving model (epoch =   13, loss = 2.6274)\n",
      "saving model (epoch =   14, loss = 2.4542)\n",
      "saving model (epoch =   15, loss = 2.3012)\n",
      "saving model (epoch =   16, loss = 2.1766)\n",
      "saving model (epoch =   17, loss = 2.0641)\n",
      "saving model (epoch =   18, loss = 1.9399)\n",
      "saving model (epoch =   19, loss = 1.8978)\n",
      "saving model (epoch =   20, loss = 1.7950)\n",
      "saving model (epoch =   21, loss = 1.7164)\n",
      "saving model (epoch =   22, loss = 1.6455)\n",
      "saving model (epoch =   23, loss = 1.5912)\n",
      "saving model (epoch =   24, loss = 1.5599)\n",
      "saving model (epoch =   25, loss = 1.5197)\n",
      "saving model (epoch =   26, loss = 1.4698)\n",
      "saving model (epoch =   27, loss = 1.4189)\n",
      "saving model (epoch =   28, loss = 1.3992)\n",
      "saving model (epoch =   29, loss = 1.3696)\n",
      "saving model (epoch =   30, loss = 1.3442)\n",
      "saving model (epoch =   31, loss = 1.3231)\n",
      "saving model (epoch =   32, loss = 1.2834)\n",
      "saving model (epoch =   33, loss = 1.2804)\n",
      "saving model (epoch =   34, loss = 1.2471)\n",
      "saving model (epoch =   36, loss = 1.2414)\n",
      "saving model (epoch =   37, loss = 1.2138)\n",
      "saving model (epoch =   38, loss = 1.2083)\n",
      "saving model (epoch =   41, loss = 1.1591)\n",
      "saving model (epoch =   42, loss = 1.1484)\n",
      "saving model (epoch =   44, loss = 1.1209)\n",
      "saving model (epoch =   47, loss = 1.1122)\n",
      "saving model (epoch =   48, loss = 1.0937)\n",
      "saving model (epoch =   50, loss = 1.0842)\n",
      "saving model (epoch =   53, loss = 1.0654)\n",
      "saving model (epoch =   54, loss = 1.0613)\n",
      "saving model (epoch =   57, loss = 1.0525)\n",
      "saving model (epoch =   58, loss = 1.0395)\n",
      "saving model (epoch =   60, loss = 1.0265)\n",
      "saving model (epoch =   63, loss = 1.0248)\n",
      "saving model (epoch =   66, loss = 1.0098)\n",
      "saving model (epoch =   70, loss = 0.9828)\n",
      "saving model (epoch =   72, loss = 0.9813)\n",
      "saving model (epoch =   73, loss = 0.9740)\n",
      "saving model (epoch =   75, loss = 0.9672)\n",
      "saving model (epoch =   78, loss = 0.9642)\n",
      "saving model (epoch =   79, loss = 0.9594)\n",
      "saving model (epoch =   85, loss = 0.9544)\n",
      "saving model (epoch =   86, loss = 0.9528)\n",
      "saving model (epoch =   90, loss = 0.9464)\n",
      "saving model (epoch =   92, loss = 0.9432)\n",
      "saving model (epoch =   93, loss = 0.9230)\n",
      "saving model (epoch =   95, loss = 0.9126)\n",
      "saving model (epoch =  104, loss = 0.9117)\n",
      "saving model (epoch =  107, loss = 0.8998)\n",
      "saving model (epoch =  110, loss = 0.8940)\n",
      "saving model (epoch =  116, loss = 0.8890)\n",
      "saving model (epoch =  124, loss = 0.8874)\n",
      "saving model (epoch =  128, loss = 0.8728)\n",
      "saving model (epoch =  139, loss = 0.8684)\n",
      "saving model (epoch =  146, loss = 0.8655)\n",
      "saving model (epoch =  156, loss = 0.8645)\n",
      "saving model (epoch =  159, loss = 0.8530)\n",
      "saving model (epoch =  167, loss = 0.8499)\n",
      "saving model (epoch =  173, loss = 0.8493)\n",
      "saving model (epoch =  176, loss = 0.8464)\n",
      "saving model (epoch =  178, loss = 0.8411)\n",
      "saving model (epoch =  182, loss = 0.8377)\n",
      "saving model (epoch =  199, loss = 0.8299)\n",
      "saving model (epoch =  212, loss = 0.8279)\n",
      "saving model (epoch =  235, loss = 0.8257)\n",
      "saving model (epoch =  238, loss = 0.8239)\n",
      "saving model (epoch =  251, loss = 0.8216)\n",
      "saving model (epoch =  253, loss = 0.8206)\n",
      "saving model (epoch =  258, loss = 0.8180)\n",
      "saving model (epoch =  284, loss = 0.8141)\n",
      "saving model (epoch =  308, loss = 0.8138)\n",
      "saving model (epoch =  312, loss = 0.8081)\n",
      "saving model (epoch =  324, loss = 0.8048)\n",
      "saving model (epoch =  359, loss = 0.8047)\n",
      "saving model (epoch =  400, loss = 0.8040)\n",
      "saving model (epoch =  404, loss = 0.8011)\n",
      "saving model (epoch =  466, loss = 0.8002)\n",
      "saving model (epoch =  525, loss = 0.7997)\n",
      "saving model (epoch =  561, loss = 0.7948)\n",
      "saving model (epoch =  584, loss = 0.7904)\n",
      "saving model (epoch =  667, loss = 0.7898)\n",
      "saving model (epoch =  717, loss = 0.7821)\n",
      "saving model (epoch =  776, loss = 0.7809)\n",
      "saving model (epoch =  835, loss = 0.7795)\n",
      "saving model (epoch =  866, loss = 0.7769)\n",
      "saving model (epoch =  919, loss = 0.7769)\n",
      "saving model (epoch =  933, loss = 0.7747)\n",
      "saving model (epoch =  965, loss = 0.7698)\n",
      "saving model (epoch = 1027, loss = 0.7667)\n",
      "saving model (epoch = 1119, loss = 0.7657)\n",
      "saving model (epoch = 1140, loss = 0.7654)\n",
      "saving model (epoch = 1196, loss = 0.7610)\n",
      "saving model (epoch = 1234, loss = 0.7605)\n",
      "saving model (epoch = 1243, loss = 0.7576)\n",
      "finished training after 1444 epochs\n"
     ]
    }
   ],
   "source": [
    "model_loss, model_loss_record = train(tr_set, dv_set, model, config, device)"
   ]
  },
  {
   "cell_type": "code",
   "execution_count": 180,
   "metadata": {},
   "outputs": [
    {
     "data": {
      "image/png": "[encoded data removed]",
      "text/plain": [
       "<Figure size 600x400 with 1 Axes>"
      ]
     },
     "metadata": {},
     "output_type": "display_data"
    }
   ],
   "source": [
    "plot_learning_curve(model_loss_record, title='deep model')"
   ]
  },
  {
   "cell_type": "code",
   "execution_count": 181,
   "metadata": {},
   "outputs": [
    {
     "data": {
      "image/png": "[encoded data removed]",
      "text/plain": [
       "<Figure size 500x500 with 1 Axes>"
      ]
     },
     "metadata": {},
     "output_type": "display_data"
    }
   ],
   "source": [
    "del model\n",
    "model = NeuralNet(tr_set.dataset.dim).to(device)\n",
    "# load your best model\n",
    "ckpt = torch.load(config['save_path'], map_location='cpu', weights_only=True)\n",
    "model.load_state_dict(ckpt)\n",
    "plot_pred(dv_set, model, device)  # show prediction on the validation set"
   ]
  },
  {
   "cell_type": "markdown",
   "metadata": {},
   "source": [
    "### testing\n",
    "the predictions of your model on testing set will be stored at `pred.csv`"
   ]
  },
  {
   "cell_type": "code",
   "execution_count": 182,
   "metadata": {},
   "outputs": [
    {
     "name": "stdout",
     "output_type": "stream",
     "text": [
      "saving results to pred.csv\n"
     ]
    }
   ],
   "source": [
    "def save_pred(preds, file):\n",
    "  ''' save predictions to specified file '''\n",
    "  print('saving results to {}'.format(file))\n",
    "  with open(file, 'w') as fp:\n",
    "    writer = csv.writer(fp)\n",
    "    writer.writerow(['id', 'tested_positive'])\n",
    "    for i, p in enumerate(preds):\n",
    "      writer.writerow([i, p])\n",
    "\n",
    "\n",
    "preds = test(tt_set, model, device)  # predict COVID-19 cases with your model\n",
    "save_pred(preds, 'pred.csv')         # save prediction file to pred.csv"
   ]
  },
  {
   "cell_type": "markdown",
   "metadata": {},
   "source": [
    "### download\n",
    "run this block to download the `pred.csv` by clicking"
   ]
  },
  {
   "cell_type": "code",
   "execution_count": 183,
   "metadata": {},
   "outputs": [
    {
     "data": {
      "text/html": [
       "<a href='pred.csv' target='_blank'>pred.csv</a><br>"
      ],
      "text/plain": [
       "/root/remy/learncode/dl/regression/pred.csv"
      ]
     },
     "execution_count": 183,
     "metadata": {},
     "output_type": "execute_result"
    }
   ],
   "source": [
    "from IPython.display import FileLink\n",
    "FileLink(r'pred.csv')"
   ]
  }
 ],
 "metadata": {
  "kernelspec": {
   "display_name": "Python 3",
   "language": "python",
   "name": "python3"
  },
  "language_info": {
   "codemirror_mode": {
    "name": "ipython",
    "version": 3
   },
   "file_extension": ".py",
   "mimetype": "text/x-python",
   "name": "python",
   "nbconvert_exporter": "python",
   "pygments_lexer": "ipython3",
   "version": "3.8.17"
  }
 },
 "nbformat": 4,
 "nbformat_minor": 2
}
