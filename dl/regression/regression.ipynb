{
 "cells": [
  {
   "cell_type": "markdown",
   "metadata": {},
   "source": [
    "### homework 1: COVID-19 Cases Prediction (regression)"
   ]
  },
  {
   "cell_type": "markdown",
   "metadata": {},
   "source": [
    "### download data\n",
    "you can download data from [kaggle](https://www.kaggle.com/c/ml2021spring-hw1/data), and upload data manually to the workspace"
   ]
  },
  {
   "cell_type": "code",
   "execution_count": 235,
   "metadata": {},
   "outputs": [],
   "source": [
    "tr_path = 'covid.train.csv'  # path to training data\n",
    "tt_path = 'covid.test.csv'   # path to testing data"
   ]
  },
  {
   "cell_type": "markdown",
   "metadata": {},
   "source": [
    "### import some packages"
   ]
  },
  {
   "cell_type": "code",
   "execution_count": 236,
   "metadata": {},
   "outputs": [],
   "source": [
    "# PyTorch\n",
    "import torch\n",
    "import torch.nn as nn\n",
    "from torch.utils.data import Dataset, DataLoader\n",
    "\n",
    "# for data preprocess\n",
    "import numpy as np\n",
    "import csv\n",
    "import os\n",
    "\n",
    "# for plotting\n",
    "import matplotlib.pyplot as plt\n",
    "from matplotlib.pyplot import figure\n",
    "\n",
    "myseed = 42069  # set a random seed for reproducibility\n",
    "torch.backends.cudnn.deterministic = True\n",
    "torch.backends.cudnn.benchmark = False\n",
    "np.random.seed(myseed)\n",
    "torch.manual_seed(myseed)\n",
    "if torch.cuda.is_available():\n",
    "  torch.cuda.manual_seed_all(myseed)"
   ]
  },
  {
   "cell_type": "markdown",
   "metadata": {},
   "source": [
    "### some utilities\n",
    "you do not need to modify this part."
   ]
  },
  {
   "cell_type": "code",
   "execution_count": 237,
   "metadata": {},
   "outputs": [],
   "source": [
    "def get_device():\n",
    "  ''' get device (if GPU is available, use GPU) '''\n",
    "  return 'cuda' if torch.cuda.is_available() else 'cpu'\n",
    "\n",
    "def plot_learning_curve(loss_record, title=''):\n",
    "  ''' plot learning curve of your DNN (train & dev loss) '''\n",
    "  total_steps = len(loss_record['train'])\n",
    "  x_1 = range(total_steps)\n",
    "  x_2 = x_1[::len(loss_record['train']) // len(loss_record['dev'])]\n",
    "  figure(figsize=(6, 4))\n",
    "  plt.plot(x_1, loss_record['train'], c='tab:red', label='train')\n",
    "  plt.plot(x_2, loss_record['dev'], c='tab:cyan', label='dev')\n",
    "  plt.ylim(0.0, 5.)\n",
    "  plt.xlabel('training steps')\n",
    "  plt.ylabel('MSE loss')\n",
    "  plt.title('learning curve of {}'.format(title))\n",
    "  plt.legend()\n",
    "  plt.show()\n",
    "\n",
    "\n",
    "def plot_pred(dv_set, model, device, lim=35., preds=None, targets=None):\n",
    "  ''' plot prediction of your DNN '''\n",
    "  if preds is None or targets is None:\n",
    "    model.eval()\n",
    "    preds, targets = [], []\n",
    "    for x, y in dv_set:\n",
    "      x, y = x.to(device), y.to(device)\n",
    "      with torch.no_grad():\n",
    "        pred = model(x)\n",
    "        preds.append(pred.detach().cpu())\n",
    "        targets.append(y.detach().cpu())\n",
    "    preds = torch.cat(preds, dim=0).numpy()\n",
    "    targets = torch.cat(targets, dim=0).numpy()\n",
    "\n",
    "  figure(figsize=(5, 5))\n",
    "  plt.scatter(targets, preds, c='r', alpha=0.5)\n",
    "  plt.plot([-0.2, lim], [-0.2, lim], c='b')\n",
    "  plt.xlim(-0.2, lim)\n",
    "  plt.ylim(-0.2, lim)\n",
    "  plt.xlabel('ground truth value')\n",
    "  plt.ylabel('predicted value')\n",
    "  plt.title('ground truth v.s. prediction')\n",
    "  plt.show()"
   ]
  },
  {
   "cell_type": "markdown",
   "metadata": {},
   "source": [
    "### preprocess\n",
    "we have three kinds of datasets:\n",
    "* train: for training\n",
    "* dev: for validation\n",
    "* test: for testing (w/o target value)"
   ]
  },
  {
   "cell_type": "markdown",
   "metadata": {},
   "source": [
    "### Dataset\n",
    "the COVID19Dataset below does:\n",
    "* read `.csv` files\n",
    "* extract features\n",
    "* split `covid.train.csv` into train/dev sets\n",
    "* normalize features\n",
    "\n",
    "finishing TODO below might make you pass medium baseline"
   ]
  },
  {
   "cell_type": "code",
   "execution_count": 238,
   "metadata": {},
   "outputs": [],
   "source": [
    "class COVID19Dataset(Dataset):\n",
    "  ''' Dataset for loading and preprocessing the COVID19 dataset '''\n",
    "\n",
    "  def __init__(self,\n",
    "               path,\n",
    "               mode='train',\n",
    "               target_only=False):\n",
    "    self.mode = mode\n",
    "\n",
    "    # read data into numpy arrays\n",
    "    with open(path, 'r') as fp:\n",
    "      data = list(csv.reader(fp))\n",
    "      data = np.array(data[1:])[:, 1:].astype(float)\n",
    "\n",
    "    if not target_only:\n",
    "      feats = list(range(93))\n",
    "    else:\n",
    "      # TODO: using 40 states & 2 tested_positive features (indices = 57 & 75)\n",
    "      feats = list(range(40))\n",
    "      feats.append(57)\n",
    "      feats.append(75)\n",
    "\n",
    "    if mode == 'test':\n",
    "      # testing data\n",
    "      # data: 893 x 93 (40 states + day 1 (18) + day 2 (18) + day 3 (17))\n",
    "      data = data[:, feats]\n",
    "      self.data = torch.FloatTensor(data)\n",
    "    else:\n",
    "      # training data (train/dev sets)\n",
    "      # data: 2700 x 94 (40 states + day 1 (18) + day 2 (18) + day 3 (18))\n",
    "      target = data[:, -1]\n",
    "      data = data[:, feats]\n",
    "\n",
    "      # splitting training data into train & dev sets\n",
    "      if mode == 'train':\n",
    "        indices = [i for i in range(len(data)) if i % 10 != 0]\n",
    "      elif mode == 'dev':\n",
    "        indices = [i for i in range(len(data)) if i % 10 == 0]\n",
    "\n",
    "      # convert data into PyTorch tensors\n",
    "      self.data = torch.FloatTensor(data[indices])\n",
    "      self.target = torch.FloatTensor(target[indices])\n",
    "\n",
    "    # normalize features (you may remove this part to see what will happen)\n",
    "    self.data[:, 40:] = \\\n",
    "        (self.data[:, 40:] - self.data[:, 40:].mean(dim=0, keepdim=True)) \\\n",
    "        / self.data[:, 40:].std(dim=0, keepdim=True)\n",
    "\n",
    "    self.dim = self.data.shape[1]\n",
    "\n",
    "    print('finished reading the {} set of COVID19 Dataset ({} samples found, each dim = {})'\n",
    "          .format(mode, len(self.data), self.dim))\n",
    "\n",
    "  def __getitem__(self, index):\n",
    "    if self.mode in ['train', 'dev']:\n",
    "      return self.data[index], self.target[index]\n",
    "    else:\n",
    "      return self.data[index]\n",
    "\n",
    "  def __len__(self):\n",
    "    return len(self.data)"
   ]
  },
  {
   "cell_type": "markdown",
   "metadata": {},
   "source": [
    "### DataLoader\n",
    "a DataLoader loads data from a given Dataset into batches."
   ]
  },
  {
   "cell_type": "code",
   "execution_count": 239,
   "metadata": {},
   "outputs": [],
   "source": [
    "def prep_dataloader(path, mode, batch_size, n_jobs=0, target_only=False):\n",
    "  ''' generates a dataset, then is put into a dataloader '''\n",
    "  dataset = COVID19Dataset(path, mode=mode, target_only=target_only)\n",
    "  dataloader = DataLoader(dataset, batch_size,\n",
    "                          shuffle=(mode == 'train'), drop_last=False,\n",
    "                          num_workers=n_jobs, pin_memory=True)\n",
    "  return dataloader"
   ]
  },
  {
   "cell_type": "markdown",
   "metadata": {},
   "source": [
    "### deep neural network\n",
    "`NeuralNet` is an nn.Module designed for regression. \n",
    "\n",
    "the DNN consists of 2 fully-connected layers with `ReLU` activation. \n",
    "\n",
    "this module also included a function `cal_loss` for calculating loss."
   ]
  },
  {
   "cell_type": "code",
   "execution_count": 240,
   "metadata": {},
   "outputs": [],
   "source": [
    "class NeuralNet(nn.Module):\n",
    "  ''' a simple fully-connected deep neural network '''\n",
    "\n",
    "  def __init__(self, input_dim):\n",
    "    super().__init__()\n",
    "\n",
    "    # define your neural network here\n",
    "    # TODO: how to modify this model to achieve better performance?\n",
    "    self.net = nn.Sequential(\n",
    "        nn.Linear(input_dim, 64),\n",
    "        nn.ReLU(),\n",
    "        nn.Linear(64, 1)\n",
    "    )\n",
    "\n",
    "    # mean squared error loss\n",
    "    self.criterion = nn.MSELoss(reduction='mean')\n",
    "\n",
    "  def forward(self, x):\n",
    "    ''' given input of size (batch_size x input_dim), compute output of the network '''\n",
    "    return self.net(x).squeeze(1)\n",
    "\n",
    "  def cal_loss(self, pred, target):\n",
    "    ''' calculate loss '''\n",
    "    # TODO: you may implement L1/L2 regularization here\n",
    "    return self.criterion(pred, target)"
   ]
  },
  {
   "cell_type": "markdown",
   "metadata": {},
   "source": [
    "### training"
   ]
  },
  {
   "cell_type": "code",
   "execution_count": 241,
   "metadata": {},
   "outputs": [],
   "source": [
    "def train(tr_set, dv_set, model, config, device):\n",
    "  ''' DNN training '''\n",
    "\n",
    "  n_epochs = config['n_epochs']  # maximum number of epochs\n",
    "\n",
    "  # setup optimizer\n",
    "  optimizer = getattr(torch.optim, config['optimizer'])(\n",
    "      model.parameters(), **config['optim_hparas'])\n",
    "\n",
    "  min_mse = 1000.\n",
    "  loss_record = {'train': [], 'dev': []}      # for recording training loss\n",
    "  early_stop_cnt = 0\n",
    "  epoch = 0\n",
    "  while epoch < n_epochs:\n",
    "    model.train()                           # set model to training mode\n",
    "    for x, y in tr_set:                     # iterate through the dataloader\n",
    "      optimizer.zero_grad()                 # set gradient to zero\n",
    "      # move data to device (cpu/cuda)\n",
    "      x, y = x.to(device), y.to(device)\n",
    "      # forward pass (compute output)\n",
    "      pred = model(x)\n",
    "      mse_loss = model.cal_loss(pred, y)    # compute loss\n",
    "      mse_loss.backward()                   # compute gradient (backpropagation)\n",
    "      optimizer.step()                      # update model with optimizer\n",
    "      loss_record['train'].append(mse_loss.detach().cpu().item())\n",
    "\n",
    "    # after each epoch, test your model on the validation (development) set.\n",
    "    dev_mse = dev(dv_set, model, device)\n",
    "    if dev_mse < min_mse:\n",
    "      # save model if your model improved\n",
    "      min_mse = dev_mse\n",
    "      print('saving model (epoch = {:4d}, loss = {:.4f})'\n",
    "            .format(epoch + 1, min_mse))\n",
    "      # save model to specified path\n",
    "      torch.save(model.state_dict(), config['save_path'])\n",
    "      early_stop_cnt = 0\n",
    "    else:\n",
    "      early_stop_cnt += 1\n",
    "\n",
    "    epoch += 1\n",
    "    loss_record['dev'].append(dev_mse)\n",
    "    if early_stop_cnt > config['early_stop']:\n",
    "      # stop training if your model stops improving for \"config['early_stop']\" epochs.\n",
    "      break\n",
    "\n",
    "  print('finished training after {} epochs'.format(epoch))\n",
    "  return min_mse, loss_record"
   ]
  },
  {
   "cell_type": "markdown",
   "metadata": {},
   "source": [
    "### validation"
   ]
  },
  {
   "cell_type": "code",
   "execution_count": 242,
   "metadata": {},
   "outputs": [],
   "source": [
    "def dev(dv_set, model, device):\n",
    "  model.eval()                                # set model to evalutation mode\n",
    "  total_loss = 0\n",
    "  for x, y in dv_set:                         # iterate through the dataloader\n",
    "    # move data to device (cpu/cuda)\n",
    "    x, y = x.to(device), y.to(device)\n",
    "    with torch.no_grad():                   # disable gradient calculation\n",
    "      # forward pass (compute output)\n",
    "      pred = model(x)\n",
    "      mse_loss = model.cal_loss(pred, y)    # compute loss\n",
    "    total_loss += mse_loss.detach().cpu().item() * len(x)  # accumulate loss\n",
    "  # compute averaged loss\n",
    "  total_loss = total_loss / len(dv_set.dataset)\n",
    "\n",
    "  return total_loss"
   ]
  },
  {
   "cell_type": "markdown",
   "metadata": {},
   "source": [
    "### testing"
   ]
  },
  {
   "cell_type": "code",
   "execution_count": 243,
   "metadata": {},
   "outputs": [],
   "source": [
    "def test(tt_set, model, device):\n",
    "  model.eval()                                # set model to evalutation mode\n",
    "  preds = []\n",
    "  for x in tt_set:                            # iterate through the dataloader\n",
    "    # move data to device (cpu/cuda)\n",
    "    x = x.to(device)\n",
    "    with torch.no_grad():                   # disable gradient calculation\n",
    "      # forward pass (compute output)\n",
    "      pred = model(x)\n",
    "      preds.append(pred.detach().cpu())     # collect prediction\n",
    "  # concatenate all predictions and convert to a numpy array\n",
    "  preds = torch.cat(preds, dim=0).numpy()\n",
    "  return preds"
   ]
  },
  {
   "cell_type": "markdown",
   "metadata": {},
   "source": [
    "### setup hyper-parameters\n",
    "config contains hyper-parameters for training and the path to save your model"
   ]
  },
  {
   "cell_type": "code",
   "execution_count": 244,
   "metadata": {},
   "outputs": [],
   "source": [
    "# get the current available device ('cpu' or 'cuda')\n",
    "device = get_device()\n",
    "# the trained model will be saved to ./models/\n",
    "os.makedirs('models', exist_ok=True)\n",
    "# TODO: using 40 states & 2 tested_positive features\n",
    "target_only = True\n",
    "\n",
    "# TODO: how to tune these hyper-parameters to improve your model's performance?\n",
    "config = {\n",
    "  'n_epochs': 3000,                # maximum number of epochs\n",
    "  'batch_size': 270,               # mini-batch size for dataloader\n",
    "  # optimization algorithm (optimizer in torch.optim)\n",
    "  'optimizer': 'SGD',\n",
    "  'optim_hparas': {                # hyper-parameters for the optimizer (depends on which optimizer you are using)\n",
    "    'lr': 0.001,                   # learning rate of SGD\n",
    "    'momentum': 0.9                # momentum for SGD\n",
    "  },\n",
    "  # early stopping epochs (the number epochs since your model's last improvement)\n",
    "  'early_stop': 200,\n",
    "  'save_path': 'models/model.pth'  # your model will be saved here\n",
    "}"
   ]
  },
  {
   "cell_type": "markdown",
   "metadata": {},
   "source": [
    "### load data and model"
   ]
  },
  {
   "cell_type": "code",
   "execution_count": 245,
   "metadata": {},
   "outputs": [
    {
     "name": "stdout",
     "output_type": "stream",
     "text": [
      "finished reading the train set of COVID19 Dataset (2430 samples found, each dim = 42)\n",
      "finished reading the dev set of COVID19 Dataset (270 samples found, each dim = 42)\n",
      "finished reading the test set of COVID19 Dataset (893 samples found, each dim = 42)\n"
     ]
    }
   ],
   "source": [
    "tr_set = prep_dataloader(tr_path, 'train', config['batch_size'], target_only=target_only)\n",
    "dv_set = prep_dataloader(tr_path, 'dev', config['batch_size'], target_only=target_only)\n",
    "tt_set = prep_dataloader(tt_path, 'test', config['batch_size'], target_only=target_only)"
   ]
  },
  {
   "cell_type": "code",
   "execution_count": 246,
   "metadata": {},
   "outputs": [],
   "source": [
    "model = NeuralNet(tr_set.dataset.dim).to(device)  # construct model and move to device"
   ]
  },
  {
   "cell_type": "markdown",
   "metadata": {},
   "source": [
    "### start training!"
   ]
  },
  {
   "cell_type": "code",
   "execution_count": 247,
   "metadata": {},
   "outputs": [
    {
     "name": "stdout",
     "output_type": "stream",
     "text": [
      "saving model (epoch =    1, loss = 245.3677)\n",
      "saving model (epoch =    2, loss = 11.7495)\n",
      "saving model (epoch =    5, loss = 5.7278)\n",
      "saving model (epoch =    6, loss = 2.0373)\n",
      "saving model (epoch =    8, loss = 1.9835)\n",
      "saving model (epoch =    9, loss = 1.5859)\n",
      "saving model (epoch =   10, loss = 1.4324)\n",
      "saving model (epoch =   11, loss = 1.4101)\n",
      "saving model (epoch =   12, loss = 1.3867)\n",
      "saving model (epoch =   13, loss = 1.3410)\n",
      "saving model (epoch =   14, loss = 1.3171)\n",
      "saving model (epoch =   15, loss = 1.3015)\n",
      "saving model (epoch =   16, loss = 1.2795)\n",
      "saving model (epoch =   17, loss = 1.2627)\n",
      "saving model (epoch =   18, loss = 1.2477)\n",
      "saving model (epoch =   19, loss = 1.2380)\n",
      "saving model (epoch =   20, loss = 1.2171)\n",
      "saving model (epoch =   21, loss = 1.2057)\n",
      "saving model (epoch =   22, loss = 1.1992)\n",
      "saving model (epoch =   23, loss = 1.1864)\n",
      "saving model (epoch =   24, loss = 1.1777)\n",
      "saving model (epoch =   25, loss = 1.1683)\n",
      "saving model (epoch =   26, loss = 1.1589)\n",
      "saving model (epoch =   27, loss = 1.1482)\n",
      "saving model (epoch =   28, loss = 1.1435)\n",
      "saving model (epoch =   29, loss = 1.1391)\n",
      "saving model (epoch =   30, loss = 1.1283)\n",
      "saving model (epoch =   31, loss = 1.1272)\n",
      "saving model (epoch =   32, loss = 1.1163)\n",
      "saving model (epoch =   33, loss = 1.1138)\n",
      "saving model (epoch =   34, loss = 1.1051)\n",
      "saving model (epoch =   36, loss = 1.0977)\n",
      "saving model (epoch =   37, loss = 1.0939)\n",
      "saving model (epoch =   38, loss = 1.0923)\n",
      "saving model (epoch =   39, loss = 1.0798)\n",
      "saving model (epoch =   41, loss = 1.0762)\n",
      "saving model (epoch =   42, loss = 1.0748)\n",
      "saving model (epoch =   43, loss = 1.0704)\n",
      "saving model (epoch =   44, loss = 1.0636)\n",
      "saving model (epoch =   45, loss = 1.0609)\n",
      "saving model (epoch =   47, loss = 1.0604)\n",
      "saving model (epoch =   48, loss = 1.0523)\n",
      "saving model (epoch =   49, loss = 1.0523)\n",
      "saving model (epoch =   50, loss = 1.0465)\n",
      "saving model (epoch =   52, loss = 1.0465)\n",
      "saving model (epoch =   53, loss = 1.0416)\n",
      "saving model (epoch =   54, loss = 1.0398)\n",
      "saving model (epoch =   55, loss = 1.0382)\n",
      "saving model (epoch =   57, loss = 1.0334)\n",
      "saving model (epoch =   58, loss = 1.0284)\n",
      "saving model (epoch =   60, loss = 1.0283)\n",
      "saving model (epoch =   61, loss = 1.0253)\n",
      "saving model (epoch =   63, loss = 1.0223)\n",
      "saving model (epoch =   64, loss = 1.0192)\n",
      "saving model (epoch =   67, loss = 1.0152)\n",
      "saving model (epoch =   70, loss = 1.0100)\n",
      "saving model (epoch =   72, loss = 1.0095)\n",
      "saving model (epoch =   74, loss = 1.0057)\n",
      "saving model (epoch =   77, loss = 1.0051)\n",
      "saving model (epoch =   78, loss = 1.0019)\n",
      "saving model (epoch =   81, loss = 0.9988)\n",
      "saving model (epoch =   82, loss = 0.9982)\n",
      "saving model (epoch =   84, loss = 0.9961)\n",
      "saving model (epoch =   85, loss = 0.9947)\n",
      "saving model (epoch =   88, loss = 0.9902)\n",
      "saving model (epoch =   91, loss = 0.9899)\n",
      "saving model (epoch =   93, loss = 0.9893)\n",
      "saving model (epoch =   95, loss = 0.9876)\n",
      "saving model (epoch =   98, loss = 0.9833)\n",
      "saving model (epoch =  108, loss = 0.9819)\n",
      "saving model (epoch =  109, loss = 0.9819)\n",
      "saving model (epoch =  111, loss = 0.9812)\n",
      "saving model (epoch =  115, loss = 0.9773)\n",
      "saving model (epoch =  122, loss = 0.9741)\n",
      "saving model (epoch =  126, loss = 0.9733)\n",
      "saving model (epoch =  132, loss = 0.9714)\n",
      "saving model (epoch =  136, loss = 0.9707)\n",
      "saving model (epoch =  150, loss = 0.9705)\n",
      "saving model (epoch =  153, loss = 0.9680)\n",
      "saving model (epoch =  165, loss = 0.9670)\n",
      "saving model (epoch =  167, loss = 0.9650)\n",
      "saving model (epoch =  204, loss = 0.9627)\n",
      "saving model (epoch =  220, loss = 0.9620)\n",
      "saving model (epoch =  280, loss = 0.9617)\n",
      "saving model (epoch =  318, loss = 0.9614)\n",
      "finished training after 519 epochs\n"
     ]
    }
   ],
   "source": [
    "model_loss, model_loss_record = train(tr_set, dv_set, model, config, device)"
   ]
  },
  {
   "cell_type": "code",
   "execution_count": 248,
   "metadata": {},
   "outputs": [
    {
     "data": {
      "image/png": "[encoded data removed]",
      "text/plain": [
       "<Figure size 600x400 with 1 Axes>"
      ]
     },
     "metadata": {},
     "output_type": "display_data"
    }
   ],
   "source": [
    "plot_learning_curve(model_loss_record, title='deep model')"
   ]
  },
  {
   "cell_type": "code",
   "execution_count": 249,
   "metadata": {},
   "outputs": [
    {
     "data": {
      "image/png": "[encoded data removed]",
      "text/plain": [
       "<Figure size 500x500 with 1 Axes>"
      ]
     },
     "metadata": {},
     "output_type": "display_data"
    }
   ],
   "source": [
    "del model\n",
    "model = NeuralNet(tr_set.dataset.dim).to(device)\n",
    "# load your best model\n",
    "ckpt = torch.load(config['save_path'], map_location='cpu', weights_only=True)\n",
    "model.load_state_dict(ckpt)\n",
    "plot_pred(dv_set, model, device)  # show prediction on the validation set"
   ]
  },
  {
   "cell_type": "markdown",
   "metadata": {},
   "source": [
    "### testing\n",
    "the predictions of your model on testing set will be stored at `pred.csv`"
   ]
  },
  {
   "cell_type": "code",
   "execution_count": 250,
   "metadata": {},
   "outputs": [
    {
     "name": "stdout",
     "output_type": "stream",
     "text": [
      "saving results to pred.csv\n"
     ]
    }
   ],
   "source": [
    "def save_pred(preds, file):\n",
    "  ''' save predictions to specified file '''\n",
    "  print('saving results to {}'.format(file))\n",
    "  with open(file, 'w') as fp:\n",
    "    writer = csv.writer(fp)\n",
    "    writer.writerow(['id', 'tested_positive'])\n",
    "    for i, p in enumerate(preds):\n",
    "      writer.writerow([i, p])\n",
    "\n",
    "\n",
    "preds = test(tt_set, model, device)  # predict COVID-19 cases with your model\n",
    "save_pred(preds, 'pred.csv')         # save prediction file to pred.csv"
   ]
  },
  {
   "cell_type": "markdown",
   "metadata": {},
   "source": [
    "### download\n",
    "run this block to download the `pred.csv` by clicking"
   ]
  },
  {
   "cell_type": "code",
   "execution_count": 251,
   "metadata": {},
   "outputs": [
    {
     "data": {
      "text/html": [
       "<a href='pred.csv' target='_blank'>pred.csv</a><br>"
      ],
      "text/plain": [
       "/root/remy/learncode/dl/regression/pred.csv"
      ]
     },
     "execution_count": 251,
     "metadata": {},
     "output_type": "execute_result"
    }
   ],
   "source": [
    "from IPython.display import FileLink\n",
    "FileLink(r'pred.csv')"
   ]
  },
  {
   "cell_type": "markdown",
   "metadata": {},
   "source": [
    "### baseline\n",
    "| Model   | Score   |\n",
    "|---------|---------|\n",
    "| Simple  | 2.04826 |\n",
    "| Medium  | 1.36937 |\n",
    "| Strong  | 0.89266 |"
   ]
  },
  {
   "cell_type": "markdown",
   "metadata": {},
   "source": [
    "### simple baseline\n",
    "run sample code, submit `pred.csv` to [kaggle](https://www.kaggle.com/c/ml2021spring-hw1/data).\n",
    "get a **Public Score: 1.35374** and a **Private score: 1.43738**. surpassing the simple baseline score of **2.04826**"
   ]
  },
  {
   "cell_type": "markdown",
   "metadata": {},
   "source": [
    "### medium baseline\n",
    "* feature selection: 40 states + 2 `tested_positive` (`TODO` in dataset)\n",
    "\n",
    "submit `pred.csv` to [kaggle](https://www.kaggle.com/c/ml2021spring-hw1/data).\n",
    "get a **Public Score: 1.05926** and a **Private score: 1.06473**. surpassing the simple baseline score of **1.36937**"
   ]
  },
  {
   "cell_type": "markdown",
   "metadata": {},
   "source": [
    "### strong Baseline\n",
    "* feature selection (what other features are useful?)\n",
    "* DNN architecture (layers? dimension? activation function?)\n",
    "* training (mini-batch? optimizer? learning rate?)\n",
    "* L2 regularization\n",
    "* there are some mistakes in the sample code, can you find them?"
   ]
  }
 ],
 "metadata": {
  "kernelspec": {
   "display_name": "Python 3",
   "language": "python",
   "name": "python3"
  },
  "language_info": {
   "codemirror_mode": {
    "name": "ipython",
    "version": 3
   },
   "file_extension": ".py",
   "mimetype": "text/x-python",
   "name": "python",
   "nbconvert_exporter": "python",
   "pygments_lexer": "ipython3",
   "version": "3.8.17"
  }
 },
 "nbformat": 4,
 "nbformat_minor": 2
}
