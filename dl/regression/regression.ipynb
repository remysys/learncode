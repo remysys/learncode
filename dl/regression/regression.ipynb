{
 "cells": [
  {
   "cell_type": "markdown",
   "metadata": {},
   "source": [
    "### homework 1: COVID-19 Cases Prediction (regression)"
   ]
  },
  {
   "cell_type": "markdown",
   "metadata": {},
   "source": [
    "### download data\n",
    "you can download data from [kaggle](https://www.kaggle.com/c/ml2021spring-hw1/data), and upload data manually to the workspace"
   ]
  },
  {
   "cell_type": "code",
   "execution_count": null,
   "metadata": {},
   "outputs": [],
   "source": [
    "tr_path = 'covid.train.csv'  # path to training data\n",
    "tt_path = 'covid.test.csv'   # path to testing data"
   ]
  },
  {
   "cell_type": "markdown",
   "metadata": {},
   "source": [
    "### import some packages"
   ]
  },
  {
   "cell_type": "code",
   "execution_count": null,
   "metadata": {},
   "outputs": [],
   "source": [
    "# PyTorch\n",
    "import torch\n",
    "import torch.nn as nn\n",
    "from torch.utils.data import Dataset, DataLoader\n",
    "\n",
    "# for data preprocess\n",
    "import numpy as np\n",
    "import csv\n",
    "import os\n",
    "\n",
    "# for plotting\n",
    "import matplotlib.pyplot as plt\n",
    "from matplotlib.pyplot import figure\n",
    "\n",
    "myseed = 42069  # set a random seed for reproducibility\n",
    "torch.backends.cudnn.deterministic = True\n",
    "torch.backends.cudnn.benchmark = False\n",
    "np.random.seed(myseed)\n",
    "torch.manual_seed(myseed)\n",
    "if torch.cuda.is_available():\n",
    "  torch.cuda.manual_seed_all(myseed)"
   ]
  },
  {
   "cell_type": "markdown",
   "metadata": {},
   "source": [
    "### some utilities\n",
    "you do not need to modify this part"
   ]
  },
  {
   "cell_type": "code",
   "execution_count": null,
   "metadata": {},
   "outputs": [],
   "source": [
    "def get_device():\n",
    "  ''' get device (if GPU is available, use GPU) '''\n",
    "  return 'cuda' if torch.cuda.is_available() else 'cpu'\n",
    "\n",
    "def plot_learning_curve(loss_record, title=''):\n",
    "  ''' plot learning curve of your DNN (train & dev loss) '''\n",
    "  total_steps = len(loss_record['train'])\n",
    "  x_1 = range(total_steps)\n",
    "  x_2 = x_1[::len(loss_record['train']) // len(loss_record['dev'])]\n",
    "  figure(figsize=(6, 4))\n",
    "  plt.plot(x_1, loss_record['train'], c='tab:red', label='train')\n",
    "  plt.plot(x_2, loss_record['dev'], c='tab:cyan', label='dev')\n",
    "  plt.ylim(0.0, 5.)\n",
    "  plt.xlabel('training steps')\n",
    "  plt.ylabel('MSE loss')\n",
    "  plt.title('learning curve of {}'.format(title))\n",
    "  plt.legend()\n",
    "  plt.show()\n",
    "\n",
    "\n",
    "def plot_pred(dv_set, model, device, lim=35., preds=None, targets=None):\n",
    "  ''' plot prediction of your DNN '''\n",
    "  if preds is None or targets is None:\n",
    "    model.eval()\n",
    "    preds, targets = [], []\n",
    "    for x, y in dv_set:\n",
    "      x, y = x.to(device), y.to(device)\n",
    "      with torch.no_grad():\n",
    "        pred = model(x)\n",
    "        preds.append(pred.detach().cpu())\n",
    "        targets.append(y.detach().cpu())\n",
    "    preds = torch.cat(preds, dim=0).numpy()\n",
    "    targets = torch.cat(targets, dim=0).numpy()\n",
    "\n",
    "  figure(figsize=(5, 5))\n",
    "  plt.scatter(targets, preds, c='r', alpha=0.5)\n",
    "  plt.plot([-0.2, lim], [-0.2, lim], c='b')\n",
    "  plt.xlim(-0.2, lim)\n",
    "  plt.ylim(-0.2, lim)\n",
    "  plt.xlabel('ground truth value')\n",
    "  plt.ylabel('predicted value')\n",
    "  plt.title('ground truth v.s. prediction')\n",
    "  plt.show()"
   ]
  },
  {
   "cell_type": "markdown",
   "metadata": {},
   "source": [
    "### preprocess\n",
    "we have three kinds of datasets:\n",
    "* train: for training\n",
    "* dev: for validation\n",
    "* test: for testing (w/o target value)"
   ]
  },
  {
   "cell_type": "markdown",
   "metadata": {},
   "source": [
    "### feature selection\n",
    "\n",
    "\n",
    "#### feature filter\n",
    "\n",
    "  "
   ]
  },
  {
   "cell_type": "code",
   "execution_count": null,
   "metadata": {},
   "outputs": [],
   "source": [
    "import pandas as pd\n",
    "data_tr = pd.read_csv(tr_path) # read training data\n",
    "data_tt = pd.read_csv(tt_path) # read testing data\n",
    "\n",
    "data_tr.drop('id', axis=1, inplace=True) # drop 'id' column\n",
    "data_tt.drop('id', axis=1, inplace=True)\n",
    "\n",
    "data_corr = data_tr.iloc[:, 40:].corr()  # compute pairwise correlation of columns\n",
    "target_col = data_corr['tested_positive.2']\n",
    "feature = target_col[target_col > 0.8]\n",
    "\n",
    "feature_cols = feature.index.tolist()  # get column name\n",
    "feature_cols.pop()                     # remove test_positive \n",
    "\n",
    "cols = list(data_tr.columns)  # list of feature names\n",
    "\n",
    "# get the index of the feature column\n",
    "# which can be used as feats + feats_selected for feature values\n",
    "feats_selected = [cols.index(col) for col in feature_cols]\n",
    "feats_selected"
   ]
  },
  {
   "cell_type": "markdown",
   "metadata": {},
   "source": [
    "### Dataset\n",
    "the COVID19Dataset below does:\n",
    "* read `.csv` files\n",
    "* extract features\n",
    "* split `covid.train.csv` into train/dev sets\n",
    "* normalize features\n",
    "\n",
    "finishing TODO below might make you pass medium baseline"
   ]
  },
  {
   "cell_type": "code",
   "execution_count": null,
   "metadata": {},
   "outputs": [],
   "source": [
    "class COVID19Dataset(Dataset):\n",
    "  ''' Dataset for loading and preprocessing the COVID19 dataset '''\n",
    "\n",
    "  def __init__(self,\n",
    "               path,\n",
    "               mode='train',\n",
    "               target_only=False):\n",
    "    self.mode = mode\n",
    "\n",
    "    # read data into numpy arrays\n",
    "    with open(path, 'r') as fp:\n",
    "      data = list(csv.reader(fp))\n",
    "      data = np.array(data[1:])[:, 1:].astype(float)\n",
    "\n",
    "    if not target_only:\n",
    "      feats = list(range(93))\n",
    "    else:\n",
    "      # TODO: using 40 states & 2 tested_positive features (indices = 57 & 75)\n",
    "      # feats = list(range(40)) + [57, 75]\n",
    "      feats = list(range(40)) + feats_selected\n",
    "\n",
    "    if mode == 'test':\n",
    "      # testing data\n",
    "      # data: 893 x 93 (40 states + day 1 (18) + day 2 (18) + day 3 (17))\n",
    "      data = data[:, feats]\n",
    "      self.data = torch.FloatTensor(data)\n",
    "    else:\n",
    "      # training data (train/dev sets)\n",
    "      # data: 2700 x 94 (40 states + day 1 (18) + day 2 (18) + day 3 (18))\n",
    "      target = data[:, -1]\n",
    "      data = data[:, feats]\n",
    "\n",
    "      # splitting training data into train & dev sets\n",
    "      if mode == 'train':\n",
    "        indices = [i for i in range(len(data)) if i % 10 != 0]\n",
    "      elif mode == 'dev':\n",
    "        indices = [i for i in range(len(data)) if i % 10 == 0]\n",
    "\n",
    "      # convert data into PyTorch tensors\n",
    "      self.data = torch.FloatTensor(data[indices])\n",
    "      self.target = torch.FloatTensor(target[indices])\n",
    "\n",
    "    # normalize features (you may remove this part to see what will happen)\n",
    "    self.data[:, 40:] = \\\n",
    "        (self.data[:, 40:] - self.data[:, 40:].mean(dim=0, keepdim=True)) \\\n",
    "        / self.data[:, 40:].std(dim=0, keepdim=True)\n",
    "\n",
    "    self.dim = self.data.shape[1]\n",
    "\n",
    "    print('finished reading the {} set of COVID19 Dataset ({} samples found, each dim = {})'\n",
    "          .format(mode, len(self.data), self.dim))\n",
    "\n",
    "  def __getitem__(self, index):\n",
    "    if self.mode in ['train', 'dev']:\n",
    "      return self.data[index], self.target[index]\n",
    "    else:\n",
    "      return self.data[index]\n",
    "\n",
    "  def __len__(self):\n",
    "    return len(self.data)"
   ]
  },
  {
   "cell_type": "markdown",
   "metadata": {},
   "source": [
    "### DataLoader\n",
    "a DataLoader loads data from a given Dataset into batches."
   ]
  },
  {
   "cell_type": "code",
   "execution_count": null,
   "metadata": {},
   "outputs": [],
   "source": [
    "def prep_dataloader(path, mode, batch_size, n_jobs=0, target_only=False):\n",
    "  ''' generates a dataset, then is put into a dataloader '''\n",
    "  dataset = COVID19Dataset(path, mode=mode, target_only=target_only)\n",
    "  dataloader = DataLoader(dataset, batch_size,\n",
    "                          shuffle=(mode == 'train'), drop_last=False,\n",
    "                          num_workers=n_jobs, pin_memory=True)\n",
    "  return dataloader"
   ]
  },
  {
   "cell_type": "markdown",
   "metadata": {},
   "source": [
    "### deep neural network\n",
    "`NeuralNet` is an nn.Module designed for regression. \n",
    "\n",
    "the DNN consists of 2 fully-connected layers with `ReLU` activation. \n",
    "\n",
    "this module also included a function `cal_loss` for calculating loss."
   ]
  },
  {
   "cell_type": "code",
   "execution_count": null,
   "metadata": {},
   "outputs": [],
   "source": [
    "class NeuralNet(nn.Module):\n",
    "  ''' a simple fully-connected deep neural network '''\n",
    "\n",
    "  def __init__(self, input_dim):\n",
    "    super().__init__()\n",
    "\n",
    "    # define your neural network here\n",
    "    # TODO: how to modify this model to achieve better performance?\n",
    "    self.net = nn.Sequential(\n",
    "        nn.Linear(input_dim, 64),\n",
    "        nn.ReLU(),\n",
    "        nn.Linear(64, 1)\n",
    "    )\n",
    "\n",
    "    # mean squared error loss\n",
    "    self.criterion = nn.MSELoss(reduction='mean')\n",
    "\n",
    "  def forward(self, x):\n",
    "    ''' given input of size (batch_size x input_dim), compute output of the network '''\n",
    "    return self.net(x).squeeze(1)\n",
    "\n",
    "  def cal_loss(self, pred, target):\n",
    "    ''' calculate loss '''\n",
    "    # TODO: you may implement L1/L2 regularization here\n",
    "    return self.criterion(pred, target)"
   ]
  },
  {
   "cell_type": "markdown",
   "metadata": {},
   "source": [
    "### training"
   ]
  },
  {
   "cell_type": "code",
   "execution_count": null,
   "metadata": {},
   "outputs": [],
   "source": [
    "def train(tr_set, dv_set, model, config, device):\n",
    "  ''' DNN training '''\n",
    "\n",
    "  n_epochs = config['n_epochs']  # maximum number of epochs\n",
    "\n",
    "  # setup optimizer\n",
    "  optimizer = getattr(torch.optim, config['optimizer'])(\n",
    "      model.parameters(), **config['optim_hparas'])\n",
    "\n",
    "  min_mse = 1000.\n",
    "  loss_record = {'train': [], 'dev': []}      # for recording training loss\n",
    "  early_stop_cnt = 0\n",
    "  epoch = 0\n",
    "  while epoch < n_epochs:\n",
    "    model.train()                           # set model to training mode\n",
    "    for x, y in tr_set:                     # iterate through the dataloader\n",
    "      optimizer.zero_grad()                 # set gradient to zero\n",
    "      # move data to device (cpu/cuda)\n",
    "      x, y = x.to(device), y.to(device)\n",
    "      # forward pass (compute output)\n",
    "      pred = model(x)\n",
    "      mse_loss = model.cal_loss(pred, y)    # compute loss\n",
    "      mse_loss.backward()                   # compute gradient (backpropagation)\n",
    "      optimizer.step()                      # update model with optimizer\n",
    "      loss_record['train'].append(mse_loss.detach().cpu().item())\n",
    "\n",
    "    # after each epoch, test your model on the validation (development) set.\n",
    "    dev_mse = dev(dv_set, model, device)\n",
    "    if dev_mse < min_mse:\n",
    "      # save model if your model improved\n",
    "      min_mse = dev_mse\n",
    "      print('saving model (epoch = {:4d}, loss = {:.4f})'\n",
    "            .format(epoch + 1, min_mse))\n",
    "      # save model to specified path\n",
    "      torch.save(model.state_dict(), config['save_path'])\n",
    "      early_stop_cnt = 0\n",
    "    else:\n",
    "      early_stop_cnt += 1\n",
    "\n",
    "    epoch += 1\n",
    "    loss_record['dev'].append(dev_mse)\n",
    "    if early_stop_cnt > config['early_stop']:\n",
    "      # stop training if your model stops improving for \"config['early_stop']\" epochs.\n",
    "      break\n",
    "\n",
    "  print('finished training after {} epochs'.format(epoch))\n",
    "  return min_mse, loss_record"
   ]
  },
  {
   "cell_type": "markdown",
   "metadata": {},
   "source": [
    "### validation"
   ]
  },
  {
   "cell_type": "code",
   "execution_count": null,
   "metadata": {},
   "outputs": [],
   "source": [
    "def dev(dv_set, model, device):\n",
    "  model.eval()                                # set model to evalutation mode\n",
    "  total_loss = 0\n",
    "  for x, y in dv_set:                         # iterate through the dataloader\n",
    "    # move data to device (cpu/cuda)\n",
    "    x, y = x.to(device), y.to(device)\n",
    "    with torch.no_grad():                   # disable gradient calculation\n",
    "      # forward pass (compute output)\n",
    "      pred = model(x)\n",
    "      mse_loss = model.cal_loss(pred, y)    # compute loss\n",
    "    total_loss += mse_loss.detach().cpu().item() * len(x)  # accumulate loss\n",
    "  # compute averaged loss\n",
    "  total_loss = total_loss / len(dv_set.dataset)\n",
    "\n",
    "  return total_loss"
   ]
  },
  {
   "cell_type": "markdown",
   "metadata": {},
   "source": [
    "### testing"
   ]
  },
  {
   "cell_type": "code",
   "execution_count": null,
   "metadata": {},
   "outputs": [],
   "source": [
    "def test(tt_set, model, device):\n",
    "  model.eval()                                # set model to evalutation mode\n",
    "  preds = []\n",
    "  for x in tt_set:                            # iterate through the dataloader\n",
    "    # move data to device (cpu/cuda)\n",
    "    x = x.to(device)\n",
    "    with torch.no_grad():                   # disable gradient calculation\n",
    "      # forward pass (compute output)\n",
    "      pred = model(x)\n",
    "      preds.append(pred.detach().cpu())     # collect prediction\n",
    "  # concatenate all predictions and convert to a numpy array\n",
    "  preds = torch.cat(preds, dim=0).numpy()\n",
    "  return preds"
   ]
  },
  {
   "cell_type": "markdown",
   "metadata": {},
   "source": [
    "### setup hyper-parameters\n",
    "config contains hyper-parameters for training and the path to save your model"
   ]
  },
  {
   "cell_type": "code",
   "execution_count": null,
   "metadata": {},
   "outputs": [],
   "source": [
    "# get the current available device ('cpu' or 'cuda')\n",
    "device = get_device()\n",
    "# the trained model will be saved to ./models/\n",
    "os.makedirs('models', exist_ok=True)\n",
    "# TODO: using 40 states & 2 tested_positive features\n",
    "target_only = True\n",
    "\n",
    "# TODO: how to tune these hyper-parameters to improve your model's performance?\n",
    "config = {\n",
    "  'n_epochs': 3000,                # maximum number of epochs\n",
    "  'batch_size': 270,               # mini-batch size for dataloader\n",
    "  # optimization algorithm (optimizer in torch.optim)\n",
    "  'optimizer': 'SGD',\n",
    "  'optim_hparas': {                # hyper-parameters for the optimizer (depends on which optimizer you are using)\n",
    "    'lr': 0.001,                   # learning rate of SGD\n",
    "    'momentum': 0.9                # momentum for SGD\n",
    "  },\n",
    "  # early stopping epochs (the number epochs since your model's last improvement)\n",
    "  'early_stop': 200,\n",
    "  'save_path': 'models/model.pth'  # your model will be saved here\n",
    "}"
   ]
  },
  {
   "cell_type": "markdown",
   "metadata": {},
   "source": [
    "### load data and model"
   ]
  },
  {
   "cell_type": "code",
   "execution_count": null,
   "metadata": {},
   "outputs": [],
   "source": [
    "tr_set = prep_dataloader(tr_path, 'train', config['batch_size'], target_only=target_only)\n",
    "dv_set = prep_dataloader(tr_path, 'dev', config['batch_size'], target_only=target_only)\n",
    "tt_set = prep_dataloader(tt_path, 'test', config['batch_size'], target_only=target_only)"
   ]
  },
  {
   "cell_type": "code",
   "execution_count": null,
   "metadata": {},
   "outputs": [],
   "source": [
    "model = NeuralNet(tr_set.dataset.dim).to(device)  # construct model and move to device"
   ]
  },
  {
   "cell_type": "markdown",
   "metadata": {},
   "source": [
    "### start training!"
   ]
  },
  {
   "cell_type": "code",
   "execution_count": null,
   "metadata": {},
   "outputs": [],
   "source": [
    "model_loss, model_loss_record = train(tr_set, dv_set, model, config, device)"
   ]
  },
  {
   "cell_type": "code",
   "execution_count": null,
   "metadata": {},
   "outputs": [],
   "source": [
    "plot_learning_curve(model_loss_record, title='deep model')"
   ]
  },
  {
   "cell_type": "code",
   "execution_count": null,
   "metadata": {},
   "outputs": [],
   "source": [
    "del model\n",
    "model = NeuralNet(tr_set.dataset.dim).to(device)\n",
    "# load your best model\n",
    "ckpt = torch.load(config['save_path'], map_location='cpu', weights_only=True)\n",
    "model.load_state_dict(ckpt)\n",
    "plot_pred(dv_set, model, device)  # show prediction on the validation set"
   ]
  },
  {
   "cell_type": "markdown",
   "metadata": {},
   "source": [
    "### testing\n",
    "the predictions of your model on testing set will be stored at `pred.csv`"
   ]
  },
  {
   "cell_type": "code",
   "execution_count": null,
   "metadata": {},
   "outputs": [],
   "source": [
    "def save_pred(preds, file):\n",
    "  ''' save predictions to specified file '''\n",
    "  print('saving results to {}'.format(file))\n",
    "  with open(file, 'w') as fp:\n",
    "    writer = csv.writer(fp)\n",
    "    writer.writerow(['id', 'tested_positive'])\n",
    "    for i, p in enumerate(preds):\n",
    "      writer.writerow([i, p])\n",
    "\n",
    "\n",
    "preds = test(tt_set, model, device)  # predict COVID-19 cases with your model\n",
    "save_pred(preds, 'pred.csv')         # save prediction file to pred.csv"
   ]
  },
  {
   "cell_type": "markdown",
   "metadata": {},
   "source": [
    "### download\n",
    "run this block to download the `pred.csv` by clicking"
   ]
  },
  {
   "cell_type": "code",
   "execution_count": null,
   "metadata": {},
   "outputs": [],
   "source": [
    "from IPython.display import FileLink\n",
    "FileLink(r'pred.csv')"
   ]
  },
  {
   "cell_type": "markdown",
   "metadata": {},
   "source": [
    "### baseline\n",
    "| Model   | Score   |\n",
    "|---------|---------|\n",
    "| Simple  | 2.04826 |\n",
    "| Medium  | 1.36937 |\n",
    "| Strong  | 0.89266 |"
   ]
  },
  {
   "cell_type": "markdown",
   "metadata": {},
   "source": [
    "### simple baseline\n",
    "run sample code, submit `pred.csv` to [kaggle](https://www.kaggle.com/c/ml2021spring-hw1/data).\n",
    "get a **Public Score: 1.35374** and a **Private score: 1.43738**. surpassing the simple baseline score of **2.04826**"
   ]
  },
  {
   "cell_type": "markdown",
   "metadata": {},
   "source": [
    "### medium baseline\n",
    "* feature selection: 40 states + 2 `tested_positive` (`TODO` in dataset)\n",
    "\n",
    "submit `pred.csv` to [kaggle](https://www.kaggle.com/c/ml2021spring-hw1/data).\n",
    "get a **Public Score: 1.05926** and a **Private score: 1.06473**. surpassing the simple baseline score of **1.36937**"
   ]
  },
  {
   "cell_type": "markdown",
   "metadata": {},
   "source": [
    "### strong Baseline\n",
    "* feature selection (what other features are useful?)\n",
    "* DNN architecture (layers? dimension? activation function?)\n",
    "* training (mini-batch? optimizer? learning rate?)\n",
    "* L2 regularization\n",
    "* there are some mistakes in the sample code, can you find them?"
   ]
  },
  {
   "cell_type": "markdown",
   "metadata": {},
   "source": [
    "#### feature selection"
   ]
  },
  {
   "cell_type": "code",
   "execution_count": null,
   "metadata": {},
   "outputs": [],
   "source": [
    "import pandas as pd\n",
    "data_tr = pd.read_csv(tr_path) # read training data\n",
    "data_tt = pd.read_csv(tt_path) # read testing data"
   ]
  },
  {
   "cell_type": "code",
   "execution_count": null,
   "metadata": {},
   "outputs": [],
   "source": [
    "data_tr.head(5) # view the first 5 rows"
   ]
  },
  {
   "cell_type": "code",
   "execution_count": null,
   "metadata": {},
   "outputs": [],
   "source": [
    "data_tt.head(5) # view the first 5 rows"
   ]
  },
  {
   "cell_type": "code",
   "execution_count": null,
   "metadata": {},
   "outputs": [],
   "source": [
    "data_tr.drop('id', axis=1, inplace=True) # drop 'id' column\n",
    "data_tt.drop('id', axis=1, inplace=True)"
   ]
  },
  {
   "cell_type": "code",
   "execution_count": null,
   "metadata": {},
   "outputs": [],
   "source": [
    "data_tr.info() #check the data types and sizes of each column\n"
   ]
  },
  {
   "cell_type": "code",
   "execution_count": null,
   "metadata": {},
   "outputs": [],
   "source": [
    "data_tr.iloc[:, 40:].describe() # check the data distribution"
   ]
  },
  {
   "cell_type": "code",
   "execution_count": null,
   "metadata": {},
   "outputs": [],
   "source": [
    "# compare the test set distribution with the training set; \n",
    "# the differences in feature distributions are not significant\n",
    "data_tt.iloc[:, 40:].describe() # check the data distribution"
   ]
  },
  {
   "cell_type": "code",
   "execution_count": null,
   "metadata": {},
   "outputs": [],
   "source": [
    "# manually check the correlation between cli features and the target variable\n",
    "plt.scatter(data_tr.loc[:, 'cli'], data_tr.loc[:, 'tested_positive.2'])\n"
   ]
  },
  {
   "cell_type": "code",
   "execution_count": null,
   "metadata": {},
   "outputs": [],
   "source": [
    "plt.scatter(data_tr.loc[:, 'ili'], data_tr.loc[:, 'tested_positive.2'])"
   ]
  },
  {
   "cell_type": "code",
   "execution_count": null,
   "metadata": {},
   "outputs": [],
   "source": [
    "# cli and ili are similar, so we can use just one of these features\n",
    "plt.scatter(data_tr.loc[:, 'cli'], data_tr.loc[:, 'ili'])"
   ]
  },
  {
   "cell_type": "code",
   "execution_count": null,
   "metadata": {},
   "outputs": [],
   "source": [
    "# the correlation between day 1 and day 3 target values is linear\n",
    "plt.scatter(data_tr.loc[:,  'tested_positive'], data_tr.loc[:, 'tested_positive.2']) "
   ]
  },
  {
   "cell_type": "code",
   "execution_count": null,
   "metadata": {},
   "outputs": [],
   "source": [
    "# the correlation between day 2 and day 3 target values is linear\n",
    "plt.scatter(data_tr.loc[:,  'tested_positive.1'], data_tr.loc[:, 'tested_positive.2'])"
   ]
  },
  {
   "cell_type": "code",
   "execution_count": null,
   "metadata": {},
   "outputs": [],
   "source": [
    "# manual analysis above is too tedious\n",
    "# let's use the corr method for automated analysis instead\n",
    "data_tr.iloc[:, 40:].corr() # compute pairwise correlation of columns"
   ]
  },
  {
   "cell_type": "code",
   "execution_count": null,
   "metadata": {},
   "outputs": [],
   "source": [
    "# select the last column of the correlation matrix to \n",
    "# view the correlation of other features with the target value.\n",
    "data_corr = data_tr.iloc[:, 40:].corr()\n",
    "target_col = data_corr['tested_positive.2']\n",
    "target_col"
   ]
  },
  {
   "cell_type": "code",
   "execution_count": null,
   "metadata": {},
   "outputs": [],
   "source": [
    "# select features with a correlation greater than 0.8\n",
    "# the threshold can be adjusted as needed.\n",
    "feature = target_col[target_col > 0.8]\n",
    "feature"
   ]
  },
  {
   "cell_type": "code",
   "execution_count": null,
   "metadata": {},
   "outputs": [],
   "source": [
    "feature_cols = feature.index.tolist()  # get column name\n",
    "feature_cols.pop()                     # remove test_positive \n",
    "feature_cols\n"
   ]
  },
  {
   "cell_type": "code",
   "execution_count": null,
   "metadata": {},
   "outputs": [],
   "source": [
    "cols = list(data_tr.columns)  # list of feature names\n",
    "\n",
    "# get the index of the feature column\n",
    "# which can be used as feats + feats_selected for feature values\n",
    "feats_selected = [cols.index(col) for col in feature_cols]\n",
    "feats_selected"
   ]
  }
 ],
 "metadata": {
  "kernelspec": {
   "display_name": "Python 3",
   "language": "python",
   "name": "python3"
  },
  "language_info": {
   "codemirror_mode": {
    "name": "ipython",
    "version": 3
   },
   "file_extension": ".py",
   "mimetype": "text/x-python",
   "name": "python",
   "nbconvert_exporter": "python",
   "pygments_lexer": "ipython3",
   "version": "3.8.17"
  }
 },
 "nbformat": 4,
 "nbformat_minor": 2
}
