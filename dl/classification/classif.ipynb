{
 "cells": [
  {
   "cell_type": "markdown",
   "metadata": {},
   "source": [
    "### homework 2-1: Phoneme Classification"
   ]
  },
  {
   "cell_type": "markdown",
   "metadata": {},
   "source": [
    "### some utilities"
   ]
  },
  {
   "cell_type": "code",
   "execution_count": 1,
   "metadata": {},
   "outputs": [],
   "source": [
    "import matplotlib.pyplot as plt\n",
    "from matplotlib.pyplot import figure\n",
    "from matplotlib.ticker import MaxNLocator\n",
    "\n",
    "def plot_learning_curve(record, title='', mode='acc'):\n",
    "  ''' plot learning curve of your DNN (train & validation loss/acc) '''\n",
    "  \n",
    "  if mode == 'acc':\n",
    "    total_steps = len(record['train_acc'])\n",
    "  else:\n",
    "    total_steps = len(record['train_loss'])\n",
    "\n",
    "  epochs = range(total_steps)\n",
    "  \n",
    "  figure(figsize=(5, 3))\n",
    "  plt.xlabel('epoch')\n",
    "  \n",
    "  if mode == 'acc':\n",
    "    plt.plot(epochs, record['train_acc'], c='tab:orange', label='train acc', linestyle='--')\n",
    "    plt.plot(epochs, record['val_acc'], c='tab:blue', label='val acc', linestyle='--')\n",
    "    plt.ylabel('accuracy')\n",
    "  else:  \n",
    "    plt.plot(epochs, record['train_loss'], c='tab:red', label='train loss', linestyle='--')\n",
    "    plt.plot(epochs, record['val_loss'], c='tab:cyan', label='val loss', linestyle='--')\n",
    "    plt.ylabel('loss')\n",
    "  \n",
    "  plt.title(f'{mode} curve of {title}')\n",
    "  # use MaxNLocator to automatically adjust the x-axis ticks\n",
    "  plt.gca().xaxis.set_major_locator(MaxNLocator(integer=True)) \n",
    "\n",
    "  plt.legend()\n",
    "  plt.show()"
   ]
  },
  {
   "cell_type": "markdown",
   "metadata": {},
   "source": [
    "### download data\n",
    "download data from [kaggle](https://www.kaggle.com/c/ml2021spring-hw2/data) <br>\n",
    "`timit_11/`\n",
    "- `train_11.npy`: training data<br>\n",
    "- `train_label_11.npy`: training label<br>\n",
    "- `test_11.npy`:  testing data<br><br>"
   ]
  },
  {
   "cell_type": "markdown",
   "metadata": {},
   "source": [
    "### preparing data\n",
    "load the training and testing data from the `.npy` file (numpy array)"
   ]
  },
  {
   "cell_type": "code",
   "execution_count": 2,
   "metadata": {},
   "outputs": [
    {
     "name": "stdout",
     "output_type": "stream",
     "text": [
      "loading data ...\n",
      "size of training data: (1229932, 429)\n",
      "size of testing data: (451552, 429)\n"
     ]
    }
   ],
   "source": [
    "import numpy as np\n",
    "\n",
    "print('loading data ...')\n",
    "\n",
    "data_root = './timit_11/'\n",
    "train = np.load(data_root + 'train_11.npy')\n",
    "train_label = np.load(data_root + 'train_label_11.npy')\n",
    "test = np.load(data_root + 'test_11.npy')\n",
    "\n",
    "print('size of training data: {}'.format(train.shape))\n",
    "print('size of testing data: {}'.format(test.shape))"
   ]
  },
  {
   "cell_type": "markdown",
   "metadata": {},
   "source": [
    "### create dataset"
   ]
  },
  {
   "cell_type": "code",
   "execution_count": 3,
   "metadata": {},
   "outputs": [],
   "source": [
    "import torch\n",
    "from torch.utils.data import Dataset\n",
    "\n",
    "class TIMITDataset(Dataset):\n",
    "  def __init__(self, X, y=None):\n",
    "    self.data = torch.from_numpy(X).float()\n",
    "    if y is not None:\n",
    "      y = y.astype(np.int64)\n",
    "      self.label = torch.LongTensor(y)\n",
    "    else:\n",
    "      self.label = None\n",
    "\n",
    "  def __getitem__(self, idx):\n",
    "    if self.label is not None:\n",
    "      return self.data[idx], self.label[idx]\n",
    "    else:\n",
    "      return self.data[idx]\n",
    "\n",
    "  def __len__(self):\n",
    "    return len(self.data)\n"
   ]
  },
  {
   "cell_type": "markdown",
   "metadata": {},
   "source": [
    "split the labeled data into a training set and a validation set, <br>\n",
    "you can modify the variable VAL_RATIO to change the ratio of validation data"
   ]
  },
  {
   "cell_type": "code",
   "execution_count": 4,
   "metadata": {},
   "outputs": [
    {
     "name": "stdout",
     "output_type": "stream",
     "text": [
      "size of training set: (983945, 429)\n",
      "size of validation set: (245987, 429)\n"
     ]
    }
   ],
   "source": [
    "VAL_RATIO = 0.2\n",
    "\n",
    "percent = int(train.shape[0] * (1 - VAL_RATIO))\n",
    "train_x, train_y, val_x, val_y = train[:percent], train_label[:percent], train[percent:], train_label[percent:]\n",
    "print('size of training set: {}'.format(train_x.shape))\n",
    "print('size of validation set: {}'.format(val_x.shape))"
   ]
  },
  {
   "cell_type": "markdown",
   "metadata": {},
   "source": [
    "create a data loader from the dataset, feel free to tweak the variable BATCH_SIZE here"
   ]
  },
  {
   "cell_type": "code",
   "execution_count": 5,
   "metadata": {},
   "outputs": [],
   "source": [
    "BATCH_SIZE = 64\n",
    "\n",
    "from torch.utils.data import DataLoader\n",
    "\n",
    "train_set = TIMITDataset(train_x, train_y)\n",
    "val_set = TIMITDataset(val_x, val_y)\n",
    "train_loader = DataLoader(train_set, batch_size=BATCH_SIZE, shuffle=True) #only shuffle the training data\n",
    "val_loader = DataLoader(val_set, batch_size=BATCH_SIZE, shuffle=False)"
   ]
  },
  {
   "cell_type": "markdown",
   "metadata": {},
   "source": [
    "cleanup the unneeded variables to save memory.<br>\n",
    "\n",
    "**notes: if you need to use these variables later, <br>\n",
    "then you may remove this block or clean up unneeded variables later<br>\n",
    "the data size is quite huge, so be aware of memory usage in colab**"
   ]
  },
  {
   "cell_type": "code",
   "execution_count": null,
   "metadata": {},
   "outputs": [],
   "source": [
    "import gc\n",
    "\n",
    "del train, train_label, train_x, train_y, val_x, val_y\n",
    "gc.collect()"
   ]
  },
  {
   "cell_type": "markdown",
   "metadata": {},
   "source": [
    "### create model\n",
    "\n",
    "define model architecture, you are encouraged to change and experiment with the model architecture."
   ]
  },
  {
   "cell_type": "code",
   "execution_count": 6,
   "metadata": {},
   "outputs": [],
   "source": [
    "import torch\n",
    "import torch.nn as nn\n",
    "\n",
    "class Classifier(nn.Module):\n",
    "  def __init__(self):\n",
    "    super().__init__()\n",
    "    self.model = nn.Sequential(\n",
    "      nn.Linear(429, 1024),\n",
    "      nn.BatchNorm1d(1024),  # add batch norm\n",
    "      nn.Sigmoid(),\n",
    "      nn.Dropout(0.1),       # add dropout\n",
    "\n",
    "      nn.Linear(1024, 512),\n",
    "      nn.BatchNorm1d(512),   # add batch norm\n",
    "      nn.Sigmoid(),\n",
    "      nn.Dropout(0.25),      # add dropout\n",
    "      \n",
    "      nn.Linear(512, 128),\n",
    "      nn.BatchNorm1d(128),   # add batch norm\n",
    "      nn.Sigmoid(),\n",
    "      #nn.Dropout(0.25),      # add dropout\n",
    "      nn.Linear(128, 39)\n",
    "    )\n",
    "\n",
    "  def forward(self, x):\n",
    "    return self.model(x)"
   ]
  },
  {
   "cell_type": "markdown",
   "metadata": {},
   "source": [
    "### training"
   ]
  },
  {
   "cell_type": "code",
   "execution_count": 7,
   "metadata": {},
   "outputs": [],
   "source": [
    "# check device\n",
    "def get_device():\n",
    "  return 'cuda' if torch.cuda.is_available() else 'cpu'"
   ]
  },
  {
   "cell_type": "markdown",
   "metadata": {},
   "source": [
    "fix random seeds for reproducibility"
   ]
  },
  {
   "cell_type": "code",
   "execution_count": 8,
   "metadata": {},
   "outputs": [],
   "source": [
    "# fix random seed\n",
    "def same_seeds(seed):\n",
    "  torch.manual_seed(seed)\n",
    "  if torch.cuda.is_available():\n",
    "    torch.cuda.manual_seed(seed)\n",
    "    torch.cuda.manual_seed_all(seed)  \n",
    "  np.random.seed(seed)  \n",
    "  torch.backends.cudnn.benchmark = False\n",
    "  torch.backends.cudnn.deterministic = True"
   ]
  },
  {
   "cell_type": "markdown",
   "metadata": {},
   "source": [
    "feel free to change the training parameters here"
   ]
  },
  {
   "cell_type": "code",
   "execution_count": 19,
   "metadata": {},
   "outputs": [
    {
     "name": "stdout",
     "output_type": "stream",
     "text": [
      "DEVICE: cpu\n"
     ]
    }
   ],
   "source": [
    "# fix random seed for reproducibility\n",
    "same_seeds(0)\n",
    "\n",
    "# get device \n",
    "device = get_device()\n",
    "print(f'DEVICE: {device}')\n",
    "\n",
    "# training parameters\n",
    "num_epoch = 40               # number of training epoch\n",
    "learning_rate = 0.0001       # learning rate\n",
    "\n",
    "# the path where checkpoint saved\n",
    "model_path = './model.ckpt'\n",
    "\n",
    "# create model, define a loss function, and optimizer\n",
    "model = Classifier().to(device)\n",
    "criterion = nn.CrossEntropyLoss() \n",
    "optimizer = torch.optim.Adam(model.parameters(), lr=learning_rate)"
   ]
  },
  {
   "cell_type": "code",
   "execution_count": 20,
   "metadata": {},
   "outputs": [
    {
     "name": "stdout",
     "output_type": "stream",
     "text": [
      "[001/040] Train Acc: 0.457665 Loss: 1.904495 | Val Acc: 0.561883 loss: 1.466432\n",
      "saving model with acc 0.562\n",
      "[002/040] Train Acc: 0.547839 Loss: 1.497722 | Val Acc: 0.617146 loss: 1.256882\n",
      "saving model with acc 0.617\n",
      "[003/040] Train Acc: 0.584579 Loss: 1.359707 | Val Acc: 0.650079 loss: 1.135307\n",
      "saving model with acc 0.650\n",
      "[004/040] Train Acc: 0.609139 Loss: 1.268394 | Val Acc: 0.669096 loss: 1.070084\n",
      "saving model with acc 0.669\n",
      "[005/040] Train Acc: 0.626303 Loss: 1.202688 | Val Acc: 0.681020 loss: 1.017064\n",
      "saving model with acc 0.681\n",
      "[006/040] Train Acc: 0.639072 Loss: 1.153833 | Val Acc: 0.691004 loss: 0.978325\n",
      "saving model with acc 0.691\n",
      "[007/040] Train Acc: 0.649700 Loss: 1.115279 | Val Acc: 0.697899 loss: 0.951874\n",
      "saving model with acc 0.698\n",
      "[008/040] Train Acc: 0.657930 Loss: 1.082952 | Val Acc: 0.702212 loss: 0.931312\n",
      "saving model with acc 0.702\n",
      "[009/040] Train Acc: 0.665533 Loss: 1.055931 | Val Acc: 0.707777 loss: 0.911041\n",
      "saving model with acc 0.708\n",
      "[010/040] Train Acc: 0.671908 Loss: 1.033300 | Val Acc: 0.711135 loss: 0.899794\n",
      "saving model with acc 0.711\n",
      "[011/040] Train Acc: 0.676539 Loss: 1.013660 | Val Acc: 0.713847 loss: 0.888168\n",
      "saving model with acc 0.714\n",
      "[012/040] Train Acc: 0.682420 Loss: 0.994351 | Val Acc: 0.714826 loss: 0.883371\n",
      "saving model with acc 0.715\n",
      "[013/040] Train Acc: 0.686216 Loss: 0.978222 | Val Acc: 0.719693 loss: 0.867272\n",
      "saving model with acc 0.720\n",
      "[014/040] Train Acc: 0.690219 Loss: 0.964232 | Val Acc: 0.720916 loss: 0.858882\n",
      "saving model with acc 0.721\n",
      "[015/040] Train Acc: 0.694115 Loss: 0.949470 | Val Acc: 0.722254 loss: 0.853636\n",
      "saving model with acc 0.722\n",
      "[016/040] Train Acc: 0.696895 Loss: 0.938790 | Val Acc: 0.724485 loss: 0.846385\n",
      "saving model with acc 0.724\n",
      "[017/040] Train Acc: 0.700477 Loss: 0.927492 | Val Acc: 0.725957 loss: 0.841000\n",
      "saving model with acc 0.726\n",
      "[018/040] Train Acc: 0.703028 Loss: 0.915728 | Val Acc: 0.727250 loss: 0.833064\n",
      "saving model with acc 0.727\n",
      "[019/040] Train Acc: 0.705710 Loss: 0.906507 | Val Acc: 0.728502 loss: 0.828980\n",
      "saving model with acc 0.729\n",
      "[020/040] Train Acc: 0.708867 Loss: 0.896268 | Val Acc: 0.728315 loss: 0.827965\n",
      "[021/040] Train Acc: 0.710754 Loss: 0.888540 | Val Acc: 0.731209 loss: 0.819462\n",
      "saving model with acc 0.731\n",
      "[022/040] Train Acc: 0.713426 Loss: 0.879721 | Val Acc: 0.730010 loss: 0.820148\n",
      "[023/040] Train Acc: 0.715902 Loss: 0.870866 | Val Acc: 0.731807 loss: 0.816809\n",
      "saving model with acc 0.732\n",
      "[024/040] Train Acc: 0.717511 Loss: 0.864021 | Val Acc: 0.732079 loss: 0.813324\n",
      "saving model with acc 0.732\n",
      "[025/040] Train Acc: 0.719459 Loss: 0.858812 | Val Acc: 0.732169 loss: 0.810709\n",
      "saving model with acc 0.732\n",
      "[026/040] Train Acc: 0.721384 Loss: 0.851145 | Val Acc: 0.733986 loss: 0.807707\n",
      "saving model with acc 0.734\n",
      "[027/040] Train Acc: 0.723240 Loss: 0.844733 | Val Acc: 0.734291 loss: 0.807108\n",
      "saving model with acc 0.734\n",
      "[028/040] Train Acc: 0.725191 Loss: 0.838156 | Val Acc: 0.735189 loss: 0.800752\n",
      "saving model with acc 0.735\n",
      "[029/040] Train Acc: 0.726741 Loss: 0.831673 | Val Acc: 0.736328 loss: 0.799473\n",
      "saving model with acc 0.736\n",
      "[030/040] Train Acc: 0.728536 Loss: 0.825795 | Val Acc: 0.734876 loss: 0.803482\n",
      "[031/040] Train Acc: 0.729375 Loss: 0.821162 | Val Acc: 0.734649 loss: 0.801591\n",
      "[032/040] Train Acc: 0.731424 Loss: 0.815805 | Val Acc: 0.736783 loss: 0.798672\n",
      "saving model with acc 0.737\n",
      "[033/040] Train Acc: 0.732928 Loss: 0.810467 | Val Acc: 0.736405 loss: 0.798029\n",
      "[034/040] Train Acc: 0.733866 Loss: 0.806767 | Val Acc: 0.734937 loss: 0.803235\n",
      "[035/040] Train Acc: 0.735073 Loss: 0.801566 | Val Acc: 0.738254 loss: 0.790884\n",
      "saving model with acc 0.738\n",
      "[036/040] Train Acc: 0.736305 Loss: 0.796717 | Val Acc: 0.737409 loss: 0.795925\n",
      "[037/040] Train Acc: 0.737654 Loss: 0.792597 | Val Acc: 0.737596 loss: 0.790566\n",
      "[038/040] Train Acc: 0.739197 Loss: 0.787072 | Val Acc: 0.738141 loss: 0.795232\n",
      "[039/040] Train Acc: 0.739943 Loss: 0.784150 | Val Acc: 0.738807 loss: 0.787451\n",
      "saving model with acc 0.739\n",
      "[040/040] Train Acc: 0.740220 Loss: 0.780933 | Val Acc: 0.740454 loss: 0.787879\n",
      "saving model with acc 0.740\n"
     ]
    }
   ],
   "source": [
    "# start training\n",
    "\n",
    "best_acc = 0.0\n",
    "loss_acc_record = {'train_loss': [], 'val_loss': [], 'train_acc': [], 'val_acc': []}  # for recording loss/acc\n",
    "for epoch in range(num_epoch):\n",
    "  train_acc = 0.0\n",
    "  train_loss = 0.0\n",
    "  val_acc = 0.0\n",
    "  val_loss = 0.0\n",
    "\n",
    "  # training\n",
    "  model.train()  # set the model to training mode\n",
    "  for i, data in enumerate(train_loader):\n",
    "    inputs, labels = data\n",
    "    inputs, labels = inputs.to(device), labels.to(device)\n",
    "    optimizer.zero_grad()\n",
    "    outputs = model(inputs)\n",
    "    batch_loss = criterion(outputs, labels)\n",
    "    _, train_pred = torch.max(outputs, 1)  # get the index of the class with the highest probability\n",
    "    batch_loss.backward()\n",
    "    optimizer.step()\n",
    "\n",
    "    train_acc += (train_pred.cpu() == labels.cpu()).sum().item()\n",
    "    train_loss += batch_loss.item()\n",
    "\n",
    "  # validation\n",
    "  if len(val_set) > 0:\n",
    "    model.eval()  # set the model to evaluation mode\n",
    "    with torch.no_grad():\n",
    "      for i, data in enumerate(val_loader):\n",
    "        inputs, labels = data\n",
    "        inputs, labels = inputs.to(device), labels.to(device)\n",
    "        outputs = model(inputs)\n",
    "        batch_loss = criterion(outputs, labels)\n",
    "        _, val_pred = torch.max(outputs, 1)\n",
    "\n",
    "        val_acc += (val_pred.cpu() == labels.cpu()).sum().item()  # get the index of the class with the highest probability\n",
    "        val_loss += batch_loss.item()\n",
    "      \n",
    "      train_acc_avg = train_acc / len(train_set)\n",
    "      train_loss_avg = train_loss / len(train_loader)\n",
    "      val_acc_avg = val_acc / len(val_set)\n",
    "      val_loss_avg = val_loss / len(val_loader)\n",
    "\n",
    "      loss_acc_record['train_acc'].append(train_acc_avg)\n",
    "      loss_acc_record['train_loss'].append(train_loss_avg)\n",
    "      loss_acc_record['val_acc'].append(val_acc_avg)\n",
    "      loss_acc_record['val_loss'].append(val_loss_avg)\n",
    "      \n",
    "      print(f'[{epoch + 1:03d}/{num_epoch:03d}] Train Acc: {train_acc_avg:.6f} Loss: {train_loss_avg:.6f} | Val Acc: {val_acc_avg:.6f} loss: {val_loss_avg:.6f}')\n",
    "\n",
    "      # if the model improves, save a checkpoint at this epoch\n",
    "      if val_acc > best_acc:\n",
    "        best_acc = val_acc\n",
    "        torch.save(model.state_dict(), model_path)\n",
    "        print('saving model with acc {:.3f}'.format(best_acc / len(val_set)))\n",
    "  else:\n",
    "    print('[{:03d}/{:03d}] Train Acc: {:3.6f} Loss: {:3.6f}'.format(\n",
    "        epoch + 1, num_epoch, train_acc / len(train_set), train_loss / len(train_loader)\n",
    "    ))\n",
    "\n",
    "# if not validating, save the last epoch\n",
    "if len(val_set) == 0:\n",
    "  torch.save(model.state_dict(), model_path)\n",
    "  print('saving model at last epoch')\n"
   ]
  },
  {
   "cell_type": "code",
   "execution_count": 21,
   "metadata": {},
   "outputs": [
    {
     "data": {
      "image/png": "[encoded data removed]",
      "text/plain": [
       "<Figure size 500x300 with 1 Axes>"
      ]
     },
     "metadata": {},
     "output_type": "display_data"
    }
   ],
   "source": [
    "plot_learning_curve(loss_acc_record, title='deep model', mode='acc')"
   ]
  },
  {
   "cell_type": "code",
   "execution_count": 23,
   "metadata": {},
   "outputs": [
    {
     "data": {
      "image/png": "[encoded data removed]",
      "text/plain": [
       "<Figure size 500x300 with 1 Axes>"
      ]
     },
     "metadata": {},
     "output_type": "display_data"
    }
   ],
   "source": [
    "plot_learning_curve(loss_acc_record, title='deep model', mode='loss')"
   ]
  },
  {
   "cell_type": "markdown",
   "metadata": {},
   "source": [
    "### testing\n",
    "create a testing dataset, and load model from the saved checkpoint"
   ]
  },
  {
   "cell_type": "code",
   "execution_count": 25,
   "metadata": {},
   "outputs": [
    {
     "data": {
      "text/plain": [
       "<All keys matched successfully>"
      ]
     },
     "execution_count": 25,
     "metadata": {},
     "output_type": "execute_result"
    }
   ],
   "source": [
    "# create testing dataset\n",
    "test_set = TIMITDataset(test, None)\n",
    "test_loader = DataLoader(test_set, batch_size=BATCH_SIZE, shuffle=False)\n",
    "\n",
    "# create model and load weights from checkpoint\n",
    "model = Classifier().to(device)\n",
    "model.load_state_dict(torch.load(model_path, weights_only=False))"
   ]
  },
  {
   "cell_type": "markdown",
   "metadata": {},
   "source": [
    "make prediction"
   ]
  },
  {
   "cell_type": "code",
   "execution_count": 26,
   "metadata": {},
   "outputs": [],
   "source": [
    "predict = []\n",
    "model.eval()  # set the model to evaluation mode\n",
    "with torch.no_grad():\n",
    "  for i, data in enumerate(test_loader):\n",
    "    inputs = data\n",
    "    inputs = inputs.to(device)\n",
    "    outputs = model(inputs)\n",
    "    _, test_pred = torch.max(outputs, 1)  # get the index of the class with the highest probability\n",
    "    \n",
    "    for y in test_pred.cpu().numpy():\n",
    "      predict.append(y)"
   ]
  },
  {
   "cell_type": "markdown",
   "metadata": {},
   "source": [
    "write prediction to a CSV file\n",
    "\n",
    "after finish running this block, download the file pred.csv from the files section on the left-hand side and submit it to [Kaggle](https://www.kaggle.com/c/ml2021spring-hw2/)"
   ]
  },
  {
   "cell_type": "code",
   "execution_count": 27,
   "metadata": {},
   "outputs": [
    {
     "name": "stdout",
     "output_type": "stream",
     "text": [
      "saving results to pred.csv\n",
      "done!\n"
     ]
    }
   ],
   "source": [
    "file = 'pred.csv'\n",
    "print('saving results to {}'.format(file))\n",
    "with open(file, 'w') as f:\n",
    "  f.write('id,class\\n')\n",
    "  for i, y in enumerate(predict):\n",
    "    f.write('{},{}\\n'.format(i, y))\n",
    "\n",
    "print('done!')"
   ]
  },
  {
   "cell_type": "markdown",
   "metadata": {},
   "source": [
    "the model with a simple baseline shows signs of overfitting. The training accuracy (train_acc) continues to improve, and at first, it is less than the validation accuracy (val_acc), but it eventually surpasses it. However, the validation accuracy increases slowly and even starts to decline in the last few epoch\n",
    "\n",
    "After adding batch normalization and dropout, the validation accuracy (val_acc) improved by approximately 3%. The validation accuracy has reached 72%\n",
    "\n",
    "it can be seen that the validation accuracy (val_acc) still shows an upward trend, so I will try increasing the number of epochs. The validation accuracy has reached 74%"
   ]
  }
 ],
 "metadata": {
  "kernelspec": {
   "display_name": "Python 3",
   "language": "python",
   "name": "python3"
  },
  "language_info": {
   "codemirror_mode": {
    "name": "ipython",
    "version": 3
   },
   "file_extension": ".py",
   "mimetype": "text/x-python",
   "name": "python",
   "nbconvert_exporter": "python",
   "pygments_lexer": "ipython3",
   "version": "3.8.17"
  }
 },
 "nbformat": 4,
 "nbformat_minor": 2
}
