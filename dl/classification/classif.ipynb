{
 "cells": [
  {
   "cell_type": "markdown",
   "metadata": {},
   "source": [
    "### homework 2-1: Phoneme Classification"
   ]
  },
  {
   "cell_type": "markdown",
   "metadata": {},
   "source": [
    "### download data\n",
    "download data from [kaggle](https://www.kaggle.com/c/ml2021spring-hw2/data) <br>\n",
    "`timit_11/`\n",
    "- `train_11.npy`: training data<br>\n",
    "- `train_label_11.npy`: training label<br>\n",
    "- `test_11.npy`:  testing data<br><br>"
   ]
  },
  {
   "cell_type": "markdown",
   "metadata": {},
   "source": [
    "### preparing data\n",
    "load the training and testing data from the `.npy` file (numpy array)"
   ]
  },
  {
   "cell_type": "code",
   "execution_count": 84,
   "metadata": {},
   "outputs": [
    {
     "name": "stdout",
     "output_type": "stream",
     "text": [
      "loading data ...\n",
      "size of training data: (1229932, 429)\n",
      "size of testing data: (451552, 429)\n"
     ]
    }
   ],
   "source": [
    "import numpy as np\n",
    "\n",
    "print('loading data ...')\n",
    "\n",
    "data_root = './timit_11/'\n",
    "train = np.load(data_root + 'train_11.npy')\n",
    "train_label = np.load(data_root + 'train_label_11.npy')\n",
    "test = np.load(data_root + 'test_11.npy')\n",
    "\n",
    "print('size of training data: {}'.format(train.shape))\n",
    "print('size of testing data: {}'.format(test.shape))"
   ]
  },
  {
   "cell_type": "markdown",
   "metadata": {},
   "source": [
    "### create dataset"
   ]
  },
  {
   "cell_type": "code",
   "execution_count": 85,
   "metadata": {},
   "outputs": [],
   "source": [
    "import torch\n",
    "from torch.utils.data import Dataset\n",
    "\n",
    "class TIMITDataset(Dataset):\n",
    "  def __init__(self, X, y=None):\n",
    "    self.data = torch.from_numpy(X).float()\n",
    "    if y is not None:\n",
    "      y = y.astype(np.int64)\n",
    "      self.label = torch.LongTensor(y)\n",
    "    else:\n",
    "      self.label = None\n",
    "\n",
    "  def __getitem__(self, idx):\n",
    "    if self.label is not None:\n",
    "      return self.data[idx], self.label[idx]\n",
    "    else:\n",
    "      return self.data[idx]\n",
    "\n",
    "  def __len__(self):\n",
    "    return len(self.data)\n"
   ]
  },
  {
   "cell_type": "markdown",
   "metadata": {},
   "source": [
    "split the labeled data into a training set and a validation set, <br>\n",
    "you can modify the variable VAL_RATIO to change the ratio of validation data"
   ]
  },
  {
   "cell_type": "code",
   "execution_count": 86,
   "metadata": {},
   "outputs": [
    {
     "name": "stdout",
     "output_type": "stream",
     "text": [
      "size of training set: (983945, 429)\n",
      "size of validation set: (245987, 429)\n"
     ]
    }
   ],
   "source": [
    "VAL_RATIO = 0.2\n",
    "\n",
    "percent = int(train.shape[0] * (1 - VAL_RATIO))\n",
    "train_x, train_y, val_x, val_y = train[:percent], train_label[:percent], train[percent:], train_label[percent:]\n",
    "print('size of training set: {}'.format(train_x.shape))\n",
    "print('size of validation set: {}'.format(val_x.shape))"
   ]
  },
  {
   "cell_type": "markdown",
   "metadata": {},
   "source": [
    "create a data loader from the dataset, feel free to tweak the variable BATCH_SIZE here"
   ]
  },
  {
   "cell_type": "code",
   "execution_count": 88,
   "metadata": {},
   "outputs": [],
   "source": [
    "BATCH_SIZE = 64\n",
    "\n",
    "from torch.utils.data import DataLoader\n",
    "\n",
    "train_set = TIMITDataset(train_x, train_y)\n",
    "val_set = TIMITDataset(val_x, val_y)\n",
    "train_loader = DataLoader(train_set, batch_size=BATCH_SIZE, shuffle=True) #only shuffle the training data\n",
    "val_loader = DataLoader(val_set, batch_size=BATCH_SIZE, shuffle=False)"
   ]
  },
  {
   "cell_type": "markdown",
   "metadata": {},
   "source": [
    "cleanup the unneeded variables to save memory.<br>\n",
    "\n",
    "**notes: if you need to use these variables later, <br>\n",
    "then you may remove this block or clean up unneeded variables later<br>\n",
    "the data size is quite huge, so be aware of memory usage in colab**"
   ]
  },
  {
   "cell_type": "code",
   "execution_count": null,
   "metadata": {},
   "outputs": [],
   "source": [
    "import gc\n",
    "\n",
    "del train, train_label, train_x, train_y, val_x, val_y\n",
    "gc.collect()"
   ]
  },
  {
   "cell_type": "markdown",
   "metadata": {},
   "source": [
    "### create model\n",
    "\n",
    "define model architecture, you are encouraged to change and experiment with the model architecture."
   ]
  },
  {
   "cell_type": "code",
   "execution_count": 89,
   "metadata": {},
   "outputs": [],
   "source": [
    "import torch\n",
    "import torch.nn as nn\n",
    "\n",
    "class Classifier(nn.Module):\n",
    "  def __init__(self):\n",
    "    super().__init__()\n",
    "    self.layer1 = nn.Linear(429, 1024)\n",
    "    self.layer2 = nn.Linear(1024, 512)\n",
    "    self.layer3 = nn.Linear(512, 128)\n",
    "    self.out = nn.Linear(128, 39)\n",
    "\n",
    "    self.act_fn = nn.Sigmoid()\n",
    "\n",
    "  def forward(self, x):\n",
    "    x = self.layer1(x)\n",
    "    x = self.act_fn(x)\n",
    "\n",
    "    x = self.layer2(x)\n",
    "    x = self.act_fn(x)\n",
    "\n",
    "    x = self.layer3(x)\n",
    "    x = self.act_fn(x)\n",
    "\n",
    "    x = self.out(x)\n",
    "    \n",
    "    return x"
   ]
  },
  {
   "cell_type": "markdown",
   "metadata": {},
   "source": [
    "### training"
   ]
  },
  {
   "cell_type": "code",
   "execution_count": 90,
   "metadata": {},
   "outputs": [],
   "source": [
    "# check device\n",
    "def get_device():\n",
    "  return 'cuda' if torch.cuda.is_available() else 'cpu'"
   ]
  },
  {
   "cell_type": "markdown",
   "metadata": {},
   "source": [
    "fix random seeds for reproducibility"
   ]
  },
  {
   "cell_type": "code",
   "execution_count": 91,
   "metadata": {},
   "outputs": [],
   "source": [
    "# fix random seed\n",
    "def same_seeds(seed):\n",
    "  torch.manual_seed(seed)\n",
    "  if torch.cuda.is_available():\n",
    "    torch.cuda.manual_seed(seed)\n",
    "    torch.cuda.manual_seed_all(seed)  \n",
    "  np.random.seed(seed)  \n",
    "  torch.backends.cudnn.benchmark = False\n",
    "  torch.backends.cudnn.deterministic = True"
   ]
  },
  {
   "cell_type": "markdown",
   "metadata": {},
   "source": [
    "feel free to change the training parameters here"
   ]
  },
  {
   "cell_type": "code",
   "execution_count": 92,
   "metadata": {},
   "outputs": [
    {
     "name": "stdout",
     "output_type": "stream",
     "text": [
      "DEVICE: cpu\n"
     ]
    }
   ],
   "source": [
    "# fix random seed for reproducibility\n",
    "same_seeds(0)\n",
    "\n",
    "# get device \n",
    "device = get_device()\n",
    "print(f'DEVICE: {device}')\n",
    "\n",
    "# training parameters\n",
    "num_epoch = 20               # number of training epoch\n",
    "learning_rate = 0.0001       # learning rate\n",
    "\n",
    "# the path where checkpoint saved\n",
    "model_path = './model.ckpt'\n",
    "\n",
    "# create model, define a loss function, and optimizer\n",
    "model = Classifier().to(device)\n",
    "criterion = nn.CrossEntropyLoss() \n",
    "optimizer = torch.optim.Adam(model.parameters(), lr=learning_rate)"
   ]
  },
  {
   "cell_type": "code",
   "execution_count": 93,
   "metadata": {},
   "outputs": [
    {
     "name": "stdout",
     "output_type": "stream",
     "text": [
      "[001/020] Train Acc: 0.467302 Loss: 1.811661 | Val Acc: 0.567428 loss: 1.433065\n",
      "saving model with acc 0.567\n",
      "[002/020] Train Acc: 0.594383 Loss: 1.330665 | Val Acc: 0.628639 loss: 1.211098\n",
      "saving model with acc 0.629\n",
      "[003/020] Train Acc: 0.644506 Loss: 1.154064 | Val Acc: 0.660421 loss: 1.101215\n",
      "saving model with acc 0.660\n",
      "[004/020] Train Acc: 0.672217 Loss: 1.052246 | Val Acc: 0.676300 loss: 1.038718\n",
      "saving model with acc 0.676\n",
      "[005/020] Train Acc: 0.691347 Loss: 0.983103 | Val Acc: 0.685154 loss: 1.001852\n",
      "saving model with acc 0.685\n",
      "[006/020] Train Acc: 0.705615 Loss: 0.931955 | Val Acc: 0.689301 loss: 0.984177\n",
      "saving model with acc 0.689\n",
      "[007/020] Train Acc: 0.716344 Loss: 0.891687 | Val Acc: 0.694516 loss: 0.964627\n",
      "saving model with acc 0.695\n",
      "[008/020] Train Acc: 0.725881 Loss: 0.857907 | Val Acc: 0.697720 loss: 0.951889\n",
      "saving model with acc 0.698\n",
      "[009/020] Train Acc: 0.733718 Loss: 0.829495 | Val Acc: 0.696687 loss: 0.949866\n",
      "[010/020] Train Acc: 0.741152 Loss: 0.803701 | Val Acc: 0.699374 loss: 0.944832\n",
      "saving model with acc 0.699\n",
      "[011/020] Train Acc: 0.748049 Loss: 0.781106 | Val Acc: 0.697773 loss: 0.946494\n",
      "[012/020] Train Acc: 0.753793 Loss: 0.760380 | Val Acc: 0.702830 loss: 0.938236\n",
      "saving model with acc 0.703\n",
      "[013/020] Train Acc: 0.759404 Loss: 0.741234 | Val Acc: 0.700456 loss: 0.945627\n",
      "[014/020] Train Acc: 0.764573 Loss: 0.723574 | Val Acc: 0.702159 loss: 0.942118\n",
      "[015/020] Train Acc: 0.769471 Loss: 0.707325 | Val Acc: 0.704427 loss: 0.936154\n",
      "saving model with acc 0.704\n",
      "[016/020] Train Acc: 0.773687 Loss: 0.691314 | Val Acc: 0.701736 loss: 0.945713\n",
      "[017/020] Train Acc: 0.778677 Loss: 0.676633 | Val Acc: 0.701586 loss: 0.953081\n",
      "[018/020] Train Acc: 0.783105 Loss: 0.662425 | Val Acc: 0.699659 loss: 0.963290\n",
      "[019/020] Train Acc: 0.786397 Loss: 0.649180 | Val Acc: 0.700078 loss: 0.957681\n",
      "[020/020] Train Acc: 0.790644 Loss: 0.636623 | Val Acc: 0.699732 loss: 0.964269\n"
     ]
    }
   ],
   "source": [
    "# start training\n",
    "\n",
    "best_acc = 0.0\n",
    "for epoch in range(num_epoch):\n",
    "  train_acc = 0.0\n",
    "  train_loss = 0.0\n",
    "  val_acc = 0.0\n",
    "  val_loss = 0.0\n",
    "\n",
    "  # training\n",
    "  model.train()  # set the model to training mode\n",
    "  for i, data in enumerate(train_loader):\n",
    "    inputs, labels = data\n",
    "    inputs, labels = inputs.to(device), labels.to(device)\n",
    "    optimizer.zero_grad()\n",
    "    outputs = model(inputs)\n",
    "    batch_loss = criterion(outputs, labels)\n",
    "    _, train_pred = torch.max(outputs, 1)  # get the index of the class with the highest probability\n",
    "    batch_loss.backward()\n",
    "    optimizer.step()\n",
    "\n",
    "    train_acc += (train_pred.cpu() == labels.cpu()).sum().item()\n",
    "    train_loss += batch_loss.item()\n",
    "\n",
    "  # validation\n",
    "  if len(val_set) > 0:\n",
    "    model.eval()  # set the model to evaluation mode\n",
    "    with torch.no_grad():\n",
    "      for i, data in enumerate(val_loader):\n",
    "        inputs, labels = data\n",
    "        inputs, labels = inputs.to(device), labels.to(device)\n",
    "        outputs = model(inputs)\n",
    "        batch_loss = criterion(outputs, labels)\n",
    "        _, val_pred = torch.max(outputs, 1)\n",
    "\n",
    "        val_acc += (val_pred.cpu() == labels.cpu()).sum().item()  # get the index of the class with the highest probability\n",
    "        val_loss += batch_loss.item()\n",
    "\n",
    "      print('[{:03d}/{:03d}] Train Acc: {:3.6f} Loss: {:3.6f} | Val Acc: {:3.6f} loss: {:3.6f}'.format(\n",
    "          epoch + 1, num_epoch, train_acc / len(train_set), train_loss / len(train_loader), \n",
    "          val_acc / len(val_set), val_loss / len(val_loader)\n",
    "      ))\n",
    "\n",
    "      # if the model improves, save a checkpoint at this epoch\n",
    "      if val_acc > best_acc:\n",
    "        best_acc = val_acc\n",
    "        torch.save(model.state_dict(), model_path)\n",
    "        print('saving model with acc {:.3f}'.format(best_acc / len(val_set)))\n",
    "  else:\n",
    "    print('[{:03d}/{:03d}] Train Acc: {:3.6f} Loss: {:3.6f}'.format(\n",
    "        epoch + 1, num_epoch, train_acc / len(train_set), train_loss / len(train_loader)\n",
    "    ))\n",
    "\n",
    "# if not validating, save the last epoch\n",
    "if len(val_set) == 0:\n",
    "  torch.save(model.state_dict(), model_path)\n",
    "  print('saving model at last epoch')\n"
   ]
  },
  {
   "cell_type": "markdown",
   "metadata": {},
   "source": [
    "### testing\n",
    "create a testing dataset, and load model from the saved checkpoint"
   ]
  },
  {
   "cell_type": "code",
   "execution_count": 96,
   "metadata": {},
   "outputs": [
    {
     "data": {
      "text/plain": [
       "<All keys matched successfully>"
      ]
     },
     "execution_count": 96,
     "metadata": {},
     "output_type": "execute_result"
    }
   ],
   "source": [
    "# create testing dataset\n",
    "test_set = TIMITDataset(test, None)\n",
    "test_loader = DataLoader(test_set, batch_size=BATCH_SIZE, shuffle=False)\n",
    "\n",
    "# create model and load weights from checkpoint\n",
    "model = Classifier().to(device)\n",
    "model.load_state_dict(torch.load(model_path, weights_only=False))"
   ]
  },
  {
   "cell_type": "markdown",
   "metadata": {},
   "source": [
    "make prediction"
   ]
  },
  {
   "cell_type": "code",
   "execution_count": 97,
   "metadata": {},
   "outputs": [],
   "source": [
    "predict = []\n",
    "model.eval()  # set the model to evaluation mode\n",
    "with torch.no_grad():\n",
    "  for i, data in enumerate(test_loader):\n",
    "    inputs = data\n",
    "    inputs = inputs.to(device)\n",
    "    outputs = model(inputs)\n",
    "    _, test_pred = torch.max(outputs, 1)  # get the index of the class with the highest probability\n",
    "    \n",
    "    for y in test_pred.cpu().numpy():\n",
    "      predict.append(y)"
   ]
  },
  {
   "cell_type": "markdown",
   "metadata": {},
   "source": [
    "write prediction to a CSV file\n",
    "\n",
    "after finish running this block, download the file pred.csv from the files section on the left-hand side and submit it to [Kaggle](https://www.kaggle.com/c/ml2021spring-hw2/)"
   ]
  },
  {
   "cell_type": "code",
   "execution_count": null,
   "metadata": {},
   "outputs": [
    {
     "name": "stdout",
     "output_type": "stream",
     "text": [
      "saving results to pred.csv\n"
     ]
    }
   ],
   "source": [
    "file = 'pred.csv'\n",
    "print('saving results to {}'.format(file))\n",
    "with open(file, 'w') as f:\n",
    "  f.write('id,class\\n')\n",
    "  for i, y in enumerate(predict):\n",
    "    f.write('{},{}\\n'.format(i, y))\n",
    "\n",
    "print('done!')"
   ]
  }
 ],
 "metadata": {
  "kernelspec": {
   "display_name": "Python 3",
   "language": "python",
   "name": "python3"
  },
  "language_info": {
   "codemirror_mode": {
    "name": "ipython",
    "version": 3
   },
   "file_extension": ".py",
   "mimetype": "text/x-python",
   "name": "python",
   "nbconvert_exporter": "python",
   "pygments_lexer": "ipython3",
   "version": "3.8.17"
  }
 },
 "nbformat": 4,
 "nbformat_minor": 2
}
